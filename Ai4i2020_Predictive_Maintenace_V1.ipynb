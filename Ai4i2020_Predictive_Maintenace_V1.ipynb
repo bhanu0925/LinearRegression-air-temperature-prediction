{
 "cells": [
  {
   "cell_type": "markdown",
   "id": "4ea1ed3c",
   "metadata": {},
   "source": [
    "# Ai4i2020 - Predictive maintenance"
   ]
  },
  {
   "cell_type": "markdown",
   "id": "0fb06f85",
   "metadata": {},
   "source": [
    "####  Problem Statement : To predict the Air temperature when there is machine failure in industry due to following failure mode\n",
    "    - tool wear failure (TWF)\n",
    "    - heat dissipation failure (HDF)\n",
    "    - power failure (PWF)\n",
    "    - verstrain failure (OSF)\n",
    "    - random failures (RNF)\n"
   ]
  },
  {
   "cell_type": "markdown",
   "id": "78ed17c9",
   "metadata": {},
   "source": [
    "## Import reqired libraries"
   ]
  },
  {
   "cell_type": "code",
   "execution_count": 1,
   "id": "28f6a36b",
   "metadata": {},
   "outputs": [],
   "source": [
    "import pandas as pd\n",
    "import matplotlib.pyplot as plt\n",
    "import seaborn as sns\n",
    "import pandas_profiling as pp\n",
    "from sklearn.linear_model import LinearRegression\n",
    "from sklearn.model_selection import train_test_split\n",
    "from sklearn.preprocessing import StandardScaler\n",
    "from sklearn.linear_model import Ridge,Lasso,LassoCV, RidgeCV, LarsCV,ElasticNet,ElasticNetCV\n",
    "import statsmodels.api as sm\n",
    "from datetime import datetime\n",
    "import logging\n",
    "import pickle\n",
    "import os\n",
    "os.chdir(os.getcwd())\n",
    "logging.basicConfig(filename='Ai4i_2020.log',level = logging.INFO,force = True)\n",
    "logging.info(\"Ai4i 2020 Predictive Maintenance\")"
   ]
  },
  {
   "cell_type": "markdown",
   "id": "6c98d631",
   "metadata": {},
   "source": [
    "## EDA"
   ]
  },
  {
   "cell_type": "code",
   "execution_count": 2,
   "id": "d598fb87",
   "metadata": {},
   "outputs": [],
   "source": [
    "df = pd.read_csv(\"ai4i2020.csv\")"
   ]
  },
  {
   "cell_type": "code",
   "execution_count": 3,
   "id": "4c6a6a14",
   "metadata": {},
   "outputs": [
    {
     "data": {
      "text/html": [
       "<div>\n",
       "<style scoped>\n",
       "    .dataframe tbody tr th:only-of-type {\n",
       "        vertical-align: middle;\n",
       "    }\n",
       "\n",
       "    .dataframe tbody tr th {\n",
       "        vertical-align: top;\n",
       "    }\n",
       "\n",
       "    .dataframe thead th {\n",
       "        text-align: right;\n",
       "    }\n",
       "</style>\n",
       "<table border=\"1\" class=\"dataframe\">\n",
       "  <thead>\n",
       "    <tr style=\"text-align: right;\">\n",
       "      <th></th>\n",
       "      <th>UDI</th>\n",
       "      <th>Product ID</th>\n",
       "      <th>Type</th>\n",
       "      <th>Air temperature [K]</th>\n",
       "      <th>Process temperature [K]</th>\n",
       "      <th>Rotational speed [rpm]</th>\n",
       "      <th>Torque [Nm]</th>\n",
       "      <th>Tool wear [min]</th>\n",
       "      <th>Machine failure</th>\n",
       "      <th>TWF</th>\n",
       "      <th>HDF</th>\n",
       "      <th>PWF</th>\n",
       "      <th>OSF</th>\n",
       "      <th>RNF</th>\n",
       "    </tr>\n",
       "  </thead>\n",
       "  <tbody>\n",
       "    <tr>\n",
       "      <th>0</th>\n",
       "      <td>1</td>\n",
       "      <td>M14860</td>\n",
       "      <td>M</td>\n",
       "      <td>298.1</td>\n",
       "      <td>308.6</td>\n",
       "      <td>1551</td>\n",
       "      <td>42.8</td>\n",
       "      <td>0</td>\n",
       "      <td>0</td>\n",
       "      <td>0</td>\n",
       "      <td>0</td>\n",
       "      <td>0</td>\n",
       "      <td>0</td>\n",
       "      <td>0</td>\n",
       "    </tr>\n",
       "    <tr>\n",
       "      <th>1</th>\n",
       "      <td>2</td>\n",
       "      <td>L47181</td>\n",
       "      <td>L</td>\n",
       "      <td>298.2</td>\n",
       "      <td>308.7</td>\n",
       "      <td>1408</td>\n",
       "      <td>46.3</td>\n",
       "      <td>3</td>\n",
       "      <td>0</td>\n",
       "      <td>0</td>\n",
       "      <td>0</td>\n",
       "      <td>0</td>\n",
       "      <td>0</td>\n",
       "      <td>0</td>\n",
       "    </tr>\n",
       "    <tr>\n",
       "      <th>2</th>\n",
       "      <td>3</td>\n",
       "      <td>L47182</td>\n",
       "      <td>L</td>\n",
       "      <td>298.1</td>\n",
       "      <td>308.5</td>\n",
       "      <td>1498</td>\n",
       "      <td>49.4</td>\n",
       "      <td>5</td>\n",
       "      <td>0</td>\n",
       "      <td>0</td>\n",
       "      <td>0</td>\n",
       "      <td>0</td>\n",
       "      <td>0</td>\n",
       "      <td>0</td>\n",
       "    </tr>\n",
       "    <tr>\n",
       "      <th>3</th>\n",
       "      <td>4</td>\n",
       "      <td>L47183</td>\n",
       "      <td>L</td>\n",
       "      <td>298.2</td>\n",
       "      <td>308.6</td>\n",
       "      <td>1433</td>\n",
       "      <td>39.5</td>\n",
       "      <td>7</td>\n",
       "      <td>0</td>\n",
       "      <td>0</td>\n",
       "      <td>0</td>\n",
       "      <td>0</td>\n",
       "      <td>0</td>\n",
       "      <td>0</td>\n",
       "    </tr>\n",
       "    <tr>\n",
       "      <th>4</th>\n",
       "      <td>5</td>\n",
       "      <td>L47184</td>\n",
       "      <td>L</td>\n",
       "      <td>298.2</td>\n",
       "      <td>308.7</td>\n",
       "      <td>1408</td>\n",
       "      <td>40.0</td>\n",
       "      <td>9</td>\n",
       "      <td>0</td>\n",
       "      <td>0</td>\n",
       "      <td>0</td>\n",
       "      <td>0</td>\n",
       "      <td>0</td>\n",
       "      <td>0</td>\n",
       "    </tr>\n",
       "    <tr>\n",
       "      <th>...</th>\n",
       "      <td>...</td>\n",
       "      <td>...</td>\n",
       "      <td>...</td>\n",
       "      <td>...</td>\n",
       "      <td>...</td>\n",
       "      <td>...</td>\n",
       "      <td>...</td>\n",
       "      <td>...</td>\n",
       "      <td>...</td>\n",
       "      <td>...</td>\n",
       "      <td>...</td>\n",
       "      <td>...</td>\n",
       "      <td>...</td>\n",
       "      <td>...</td>\n",
       "    </tr>\n",
       "    <tr>\n",
       "      <th>9995</th>\n",
       "      <td>9996</td>\n",
       "      <td>M24855</td>\n",
       "      <td>M</td>\n",
       "      <td>298.8</td>\n",
       "      <td>308.4</td>\n",
       "      <td>1604</td>\n",
       "      <td>29.5</td>\n",
       "      <td>14</td>\n",
       "      <td>0</td>\n",
       "      <td>0</td>\n",
       "      <td>0</td>\n",
       "      <td>0</td>\n",
       "      <td>0</td>\n",
       "      <td>0</td>\n",
       "    </tr>\n",
       "    <tr>\n",
       "      <th>9996</th>\n",
       "      <td>9997</td>\n",
       "      <td>H39410</td>\n",
       "      <td>H</td>\n",
       "      <td>298.9</td>\n",
       "      <td>308.4</td>\n",
       "      <td>1632</td>\n",
       "      <td>31.8</td>\n",
       "      <td>17</td>\n",
       "      <td>0</td>\n",
       "      <td>0</td>\n",
       "      <td>0</td>\n",
       "      <td>0</td>\n",
       "      <td>0</td>\n",
       "      <td>0</td>\n",
       "    </tr>\n",
       "    <tr>\n",
       "      <th>9997</th>\n",
       "      <td>9998</td>\n",
       "      <td>M24857</td>\n",
       "      <td>M</td>\n",
       "      <td>299.0</td>\n",
       "      <td>308.6</td>\n",
       "      <td>1645</td>\n",
       "      <td>33.4</td>\n",
       "      <td>22</td>\n",
       "      <td>0</td>\n",
       "      <td>0</td>\n",
       "      <td>0</td>\n",
       "      <td>0</td>\n",
       "      <td>0</td>\n",
       "      <td>0</td>\n",
       "    </tr>\n",
       "    <tr>\n",
       "      <th>9998</th>\n",
       "      <td>9999</td>\n",
       "      <td>H39412</td>\n",
       "      <td>H</td>\n",
       "      <td>299.0</td>\n",
       "      <td>308.7</td>\n",
       "      <td>1408</td>\n",
       "      <td>48.5</td>\n",
       "      <td>25</td>\n",
       "      <td>0</td>\n",
       "      <td>0</td>\n",
       "      <td>0</td>\n",
       "      <td>0</td>\n",
       "      <td>0</td>\n",
       "      <td>0</td>\n",
       "    </tr>\n",
       "    <tr>\n",
       "      <th>9999</th>\n",
       "      <td>10000</td>\n",
       "      <td>M24859</td>\n",
       "      <td>M</td>\n",
       "      <td>299.0</td>\n",
       "      <td>308.7</td>\n",
       "      <td>1500</td>\n",
       "      <td>40.2</td>\n",
       "      <td>30</td>\n",
       "      <td>0</td>\n",
       "      <td>0</td>\n",
       "      <td>0</td>\n",
       "      <td>0</td>\n",
       "      <td>0</td>\n",
       "      <td>0</td>\n",
       "    </tr>\n",
       "  </tbody>\n",
       "</table>\n",
       "<p>10000 rows × 14 columns</p>\n",
       "</div>"
      ],
      "text/plain": [
       "        UDI Product ID Type  Air temperature [K]  Process temperature [K]  \\\n",
       "0         1     M14860    M                298.1                    308.6   \n",
       "1         2     L47181    L                298.2                    308.7   \n",
       "2         3     L47182    L                298.1                    308.5   \n",
       "3         4     L47183    L                298.2                    308.6   \n",
       "4         5     L47184    L                298.2                    308.7   \n",
       "...     ...        ...  ...                  ...                      ...   \n",
       "9995   9996     M24855    M                298.8                    308.4   \n",
       "9996   9997     H39410    H                298.9                    308.4   \n",
       "9997   9998     M24857    M                299.0                    308.6   \n",
       "9998   9999     H39412    H                299.0                    308.7   \n",
       "9999  10000     M24859    M                299.0                    308.7   \n",
       "\n",
       "      Rotational speed [rpm]  Torque [Nm]  Tool wear [min]  Machine failure  \\\n",
       "0                       1551         42.8                0                0   \n",
       "1                       1408         46.3                3                0   \n",
       "2                       1498         49.4                5                0   \n",
       "3                       1433         39.5                7                0   \n",
       "4                       1408         40.0                9                0   \n",
       "...                      ...          ...              ...              ...   \n",
       "9995                    1604         29.5               14                0   \n",
       "9996                    1632         31.8               17                0   \n",
       "9997                    1645         33.4               22                0   \n",
       "9998                    1408         48.5               25                0   \n",
       "9999                    1500         40.2               30                0   \n",
       "\n",
       "      TWF  HDF  PWF  OSF  RNF  \n",
       "0       0    0    0    0    0  \n",
       "1       0    0    0    0    0  \n",
       "2       0    0    0    0    0  \n",
       "3       0    0    0    0    0  \n",
       "4       0    0    0    0    0  \n",
       "...   ...  ...  ...  ...  ...  \n",
       "9995    0    0    0    0    0  \n",
       "9996    0    0    0    0    0  \n",
       "9997    0    0    0    0    0  \n",
       "9998    0    0    0    0    0  \n",
       "9999    0    0    0    0    0  \n",
       "\n",
       "[10000 rows x 14 columns]"
      ]
     },
     "execution_count": 3,
     "metadata": {},
     "output_type": "execute_result"
    }
   ],
   "source": [
    "df"
   ]
  },
  {
   "cell_type": "code",
   "execution_count": 4,
   "id": "94c61643",
   "metadata": {},
   "outputs": [
    {
     "data": {
      "application/vnd.jupyter.widget-view+json": {
       "model_id": "2a7817bb712b4f20ab45961c6c0d3c28",
       "version_major": 2,
       "version_minor": 0
      },
      "text/plain": [
       "Summarize dataset:   0%|          | 0/27 [00:00<?, ?it/s]"
      ]
     },
     "metadata": {},
     "output_type": "display_data"
    },
    {
     "data": {
      "application/vnd.jupyter.widget-view+json": {
       "model_id": "a6c066ee86224a7a96b2dbedd8024b23",
       "version_major": 2,
       "version_minor": 0
      },
      "text/plain": [
       "Generate report structure:   0%|          | 0/1 [00:00<?, ?it/s]"
      ]
     },
     "metadata": {},
     "output_type": "display_data"
    },
    {
     "data": {
      "application/vnd.jupyter.widget-view+json": {
       "model_id": "",
       "version_major": 2,
       "version_minor": 0
      },
      "text/plain": [
       "Render widgets:   0%|          | 0/1 [00:00<?, ?it/s]"
      ]
     },
     "metadata": {},
     "output_type": "display_data"
    },
    {
     "data": {
      "application/vnd.jupyter.widget-view+json": {
       "model_id": "7a2bc5d3ec844e1bbfb12526c74c7d4d",
       "version_major": 2,
       "version_minor": 0
      },
      "text/plain": [
       "VBox(children=(Tab(children=(Tab(children=(GridBox(children=(VBox(children=(GridspecLayout(children=(HTML(valu…"
      ]
     },
     "metadata": {},
     "output_type": "display_data"
    },
    {
     "data": {
      "application/vnd.jupyter.widget-view+json": {
       "model_id": "584c6353478f4217ae9d3dc2b77991fa",
       "version_major": 2,
       "version_minor": 0
      },
      "text/plain": [
       "Render HTML:   0%|          | 0/1 [00:00<?, ?it/s]"
      ]
     },
     "metadata": {},
     "output_type": "display_data"
    },
    {
     "data": {
      "application/vnd.jupyter.widget-view+json": {
       "model_id": "2024180f3f074a0cb69df5489cf2bd77",
       "version_major": 2,
       "version_minor": 0
      },
      "text/plain": [
       "Export report to file:   0%|          | 0/1 [00:00<?, ?it/s]"
      ]
     },
     "metadata": {},
     "output_type": "display_data"
    }
   ],
   "source": [
    "pf = pp.ProfileReport(df)\n",
    "pd_f = pf.to_widgets()\n",
    "pf.to_file(\"AI4I_Profiling.html\")"
   ]
  },
  {
   "cell_type": "markdown",
   "id": "8d1c4911",
   "metadata": {},
   "source": [
    "## Data Preprocessing"
   ]
  },
  {
   "cell_type": "code",
   "execution_count": 5,
   "id": "13b941b6",
   "metadata": {},
   "outputs": [],
   "source": [
    "df = df.drop(['UDI','Product ID','Type','Machine failure'], axis = 1)\n",
    "df.columns = df.columns.str.replace('[',\"\",regex=False)\n",
    "df.columns = df.columns.str.replace(']',\"\",regex=False)\n",
    "df.columns = df.columns.str.replace(' ',\"\",regex=False)"
   ]
  },
  {
   "cell_type": "code",
   "execution_count": 6,
   "id": "0e9b8a2c",
   "metadata": {},
   "outputs": [
    {
     "data": {
      "text/html": [
       "<div>\n",
       "<style scoped>\n",
       "    .dataframe tbody tr th:only-of-type {\n",
       "        vertical-align: middle;\n",
       "    }\n",
       "\n",
       "    .dataframe tbody tr th {\n",
       "        vertical-align: top;\n",
       "    }\n",
       "\n",
       "    .dataframe thead th {\n",
       "        text-align: right;\n",
       "    }\n",
       "</style>\n",
       "<table border=\"1\" class=\"dataframe\">\n",
       "  <thead>\n",
       "    <tr style=\"text-align: right;\">\n",
       "      <th></th>\n",
       "      <th>AirtemperatureK</th>\n",
       "      <th>ProcesstemperatureK</th>\n",
       "      <th>Rotationalspeedrpm</th>\n",
       "      <th>TorqueNm</th>\n",
       "      <th>Toolwearmin</th>\n",
       "      <th>TWF</th>\n",
       "      <th>HDF</th>\n",
       "      <th>PWF</th>\n",
       "      <th>OSF</th>\n",
       "      <th>RNF</th>\n",
       "    </tr>\n",
       "  </thead>\n",
       "  <tbody>\n",
       "    <tr>\n",
       "      <th>0</th>\n",
       "      <td>298.1</td>\n",
       "      <td>308.6</td>\n",
       "      <td>1551</td>\n",
       "      <td>42.8</td>\n",
       "      <td>0</td>\n",
       "      <td>0</td>\n",
       "      <td>0</td>\n",
       "      <td>0</td>\n",
       "      <td>0</td>\n",
       "      <td>0</td>\n",
       "    </tr>\n",
       "    <tr>\n",
       "      <th>1</th>\n",
       "      <td>298.2</td>\n",
       "      <td>308.7</td>\n",
       "      <td>1408</td>\n",
       "      <td>46.3</td>\n",
       "      <td>3</td>\n",
       "      <td>0</td>\n",
       "      <td>0</td>\n",
       "      <td>0</td>\n",
       "      <td>0</td>\n",
       "      <td>0</td>\n",
       "    </tr>\n",
       "    <tr>\n",
       "      <th>2</th>\n",
       "      <td>298.1</td>\n",
       "      <td>308.5</td>\n",
       "      <td>1498</td>\n",
       "      <td>49.4</td>\n",
       "      <td>5</td>\n",
       "      <td>0</td>\n",
       "      <td>0</td>\n",
       "      <td>0</td>\n",
       "      <td>0</td>\n",
       "      <td>0</td>\n",
       "    </tr>\n",
       "    <tr>\n",
       "      <th>3</th>\n",
       "      <td>298.2</td>\n",
       "      <td>308.6</td>\n",
       "      <td>1433</td>\n",
       "      <td>39.5</td>\n",
       "      <td>7</td>\n",
       "      <td>0</td>\n",
       "      <td>0</td>\n",
       "      <td>0</td>\n",
       "      <td>0</td>\n",
       "      <td>0</td>\n",
       "    </tr>\n",
       "    <tr>\n",
       "      <th>4</th>\n",
       "      <td>298.2</td>\n",
       "      <td>308.7</td>\n",
       "      <td>1408</td>\n",
       "      <td>40.0</td>\n",
       "      <td>9</td>\n",
       "      <td>0</td>\n",
       "      <td>0</td>\n",
       "      <td>0</td>\n",
       "      <td>0</td>\n",
       "      <td>0</td>\n",
       "    </tr>\n",
       "    <tr>\n",
       "      <th>...</th>\n",
       "      <td>...</td>\n",
       "      <td>...</td>\n",
       "      <td>...</td>\n",
       "      <td>...</td>\n",
       "      <td>...</td>\n",
       "      <td>...</td>\n",
       "      <td>...</td>\n",
       "      <td>...</td>\n",
       "      <td>...</td>\n",
       "      <td>...</td>\n",
       "    </tr>\n",
       "    <tr>\n",
       "      <th>9995</th>\n",
       "      <td>298.8</td>\n",
       "      <td>308.4</td>\n",
       "      <td>1604</td>\n",
       "      <td>29.5</td>\n",
       "      <td>14</td>\n",
       "      <td>0</td>\n",
       "      <td>0</td>\n",
       "      <td>0</td>\n",
       "      <td>0</td>\n",
       "      <td>0</td>\n",
       "    </tr>\n",
       "    <tr>\n",
       "      <th>9996</th>\n",
       "      <td>298.9</td>\n",
       "      <td>308.4</td>\n",
       "      <td>1632</td>\n",
       "      <td>31.8</td>\n",
       "      <td>17</td>\n",
       "      <td>0</td>\n",
       "      <td>0</td>\n",
       "      <td>0</td>\n",
       "      <td>0</td>\n",
       "      <td>0</td>\n",
       "    </tr>\n",
       "    <tr>\n",
       "      <th>9997</th>\n",
       "      <td>299.0</td>\n",
       "      <td>308.6</td>\n",
       "      <td>1645</td>\n",
       "      <td>33.4</td>\n",
       "      <td>22</td>\n",
       "      <td>0</td>\n",
       "      <td>0</td>\n",
       "      <td>0</td>\n",
       "      <td>0</td>\n",
       "      <td>0</td>\n",
       "    </tr>\n",
       "    <tr>\n",
       "      <th>9998</th>\n",
       "      <td>299.0</td>\n",
       "      <td>308.7</td>\n",
       "      <td>1408</td>\n",
       "      <td>48.5</td>\n",
       "      <td>25</td>\n",
       "      <td>0</td>\n",
       "      <td>0</td>\n",
       "      <td>0</td>\n",
       "      <td>0</td>\n",
       "      <td>0</td>\n",
       "    </tr>\n",
       "    <tr>\n",
       "      <th>9999</th>\n",
       "      <td>299.0</td>\n",
       "      <td>308.7</td>\n",
       "      <td>1500</td>\n",
       "      <td>40.2</td>\n",
       "      <td>30</td>\n",
       "      <td>0</td>\n",
       "      <td>0</td>\n",
       "      <td>0</td>\n",
       "      <td>0</td>\n",
       "      <td>0</td>\n",
       "    </tr>\n",
       "  </tbody>\n",
       "</table>\n",
       "<p>10000 rows × 10 columns</p>\n",
       "</div>"
      ],
      "text/plain": [
       "      AirtemperatureK  ProcesstemperatureK  Rotationalspeedrpm  TorqueNm  \\\n",
       "0               298.1                308.6                1551      42.8   \n",
       "1               298.2                308.7                1408      46.3   \n",
       "2               298.1                308.5                1498      49.4   \n",
       "3               298.2                308.6                1433      39.5   \n",
       "4               298.2                308.7                1408      40.0   \n",
       "...               ...                  ...                 ...       ...   \n",
       "9995            298.8                308.4                1604      29.5   \n",
       "9996            298.9                308.4                1632      31.8   \n",
       "9997            299.0                308.6                1645      33.4   \n",
       "9998            299.0                308.7                1408      48.5   \n",
       "9999            299.0                308.7                1500      40.2   \n",
       "\n",
       "      Toolwearmin  TWF  HDF  PWF  OSF  RNF  \n",
       "0               0    0    0    0    0    0  \n",
       "1               3    0    0    0    0    0  \n",
       "2               5    0    0    0    0    0  \n",
       "3               7    0    0    0    0    0  \n",
       "4               9    0    0    0    0    0  \n",
       "...           ...  ...  ...  ...  ...  ...  \n",
       "9995           14    0    0    0    0    0  \n",
       "9996           17    0    0    0    0    0  \n",
       "9997           22    0    0    0    0    0  \n",
       "9998           25    0    0    0    0    0  \n",
       "9999           30    0    0    0    0    0  \n",
       "\n",
       "[10000 rows x 10 columns]"
      ]
     },
     "execution_count": 6,
     "metadata": {},
     "output_type": "execute_result"
    }
   ],
   "source": [
    "df"
   ]
  },
  {
   "cell_type": "code",
   "execution_count": 72,
   "id": "9eb7baea",
   "metadata": {},
   "outputs": [],
   "source": [
    "df.to_csv(\"Cleaned_ai4i.csv\")"
   ]
  },
  {
   "cell_type": "markdown",
   "id": "1d8f2704",
   "metadata": {},
   "source": [
    "## Separate independent and target variable"
   ]
  },
  {
   "cell_type": "code",
   "execution_count": 7,
   "id": "91bebf37",
   "metadata": {},
   "outputs": [],
   "source": [
    "X = df.drop(\"AirtemperatureK\", axis=1)"
   ]
  },
  {
   "cell_type": "code",
   "execution_count": 8,
   "id": "94dc919e",
   "metadata": {},
   "outputs": [
    {
     "data": {
      "text/html": [
       "<div>\n",
       "<style scoped>\n",
       "    .dataframe tbody tr th:only-of-type {\n",
       "        vertical-align: middle;\n",
       "    }\n",
       "\n",
       "    .dataframe tbody tr th {\n",
       "        vertical-align: top;\n",
       "    }\n",
       "\n",
       "    .dataframe thead th {\n",
       "        text-align: right;\n",
       "    }\n",
       "</style>\n",
       "<table border=\"1\" class=\"dataframe\">\n",
       "  <thead>\n",
       "    <tr style=\"text-align: right;\">\n",
       "      <th></th>\n",
       "      <th>ProcesstemperatureK</th>\n",
       "      <th>Rotationalspeedrpm</th>\n",
       "      <th>TorqueNm</th>\n",
       "      <th>Toolwearmin</th>\n",
       "      <th>TWF</th>\n",
       "      <th>HDF</th>\n",
       "      <th>PWF</th>\n",
       "      <th>OSF</th>\n",
       "      <th>RNF</th>\n",
       "    </tr>\n",
       "  </thead>\n",
       "  <tbody>\n",
       "    <tr>\n",
       "      <th>0</th>\n",
       "      <td>308.6</td>\n",
       "      <td>1551</td>\n",
       "      <td>42.8</td>\n",
       "      <td>0</td>\n",
       "      <td>0</td>\n",
       "      <td>0</td>\n",
       "      <td>0</td>\n",
       "      <td>0</td>\n",
       "      <td>0</td>\n",
       "    </tr>\n",
       "    <tr>\n",
       "      <th>1</th>\n",
       "      <td>308.7</td>\n",
       "      <td>1408</td>\n",
       "      <td>46.3</td>\n",
       "      <td>3</td>\n",
       "      <td>0</td>\n",
       "      <td>0</td>\n",
       "      <td>0</td>\n",
       "      <td>0</td>\n",
       "      <td>0</td>\n",
       "    </tr>\n",
       "    <tr>\n",
       "      <th>2</th>\n",
       "      <td>308.5</td>\n",
       "      <td>1498</td>\n",
       "      <td>49.4</td>\n",
       "      <td>5</td>\n",
       "      <td>0</td>\n",
       "      <td>0</td>\n",
       "      <td>0</td>\n",
       "      <td>0</td>\n",
       "      <td>0</td>\n",
       "    </tr>\n",
       "    <tr>\n",
       "      <th>3</th>\n",
       "      <td>308.6</td>\n",
       "      <td>1433</td>\n",
       "      <td>39.5</td>\n",
       "      <td>7</td>\n",
       "      <td>0</td>\n",
       "      <td>0</td>\n",
       "      <td>0</td>\n",
       "      <td>0</td>\n",
       "      <td>0</td>\n",
       "    </tr>\n",
       "    <tr>\n",
       "      <th>4</th>\n",
       "      <td>308.7</td>\n",
       "      <td>1408</td>\n",
       "      <td>40.0</td>\n",
       "      <td>9</td>\n",
       "      <td>0</td>\n",
       "      <td>0</td>\n",
       "      <td>0</td>\n",
       "      <td>0</td>\n",
       "      <td>0</td>\n",
       "    </tr>\n",
       "    <tr>\n",
       "      <th>...</th>\n",
       "      <td>...</td>\n",
       "      <td>...</td>\n",
       "      <td>...</td>\n",
       "      <td>...</td>\n",
       "      <td>...</td>\n",
       "      <td>...</td>\n",
       "      <td>...</td>\n",
       "      <td>...</td>\n",
       "      <td>...</td>\n",
       "    </tr>\n",
       "    <tr>\n",
       "      <th>9995</th>\n",
       "      <td>308.4</td>\n",
       "      <td>1604</td>\n",
       "      <td>29.5</td>\n",
       "      <td>14</td>\n",
       "      <td>0</td>\n",
       "      <td>0</td>\n",
       "      <td>0</td>\n",
       "      <td>0</td>\n",
       "      <td>0</td>\n",
       "    </tr>\n",
       "    <tr>\n",
       "      <th>9996</th>\n",
       "      <td>308.4</td>\n",
       "      <td>1632</td>\n",
       "      <td>31.8</td>\n",
       "      <td>17</td>\n",
       "      <td>0</td>\n",
       "      <td>0</td>\n",
       "      <td>0</td>\n",
       "      <td>0</td>\n",
       "      <td>0</td>\n",
       "    </tr>\n",
       "    <tr>\n",
       "      <th>9997</th>\n",
       "      <td>308.6</td>\n",
       "      <td>1645</td>\n",
       "      <td>33.4</td>\n",
       "      <td>22</td>\n",
       "      <td>0</td>\n",
       "      <td>0</td>\n",
       "      <td>0</td>\n",
       "      <td>0</td>\n",
       "      <td>0</td>\n",
       "    </tr>\n",
       "    <tr>\n",
       "      <th>9998</th>\n",
       "      <td>308.7</td>\n",
       "      <td>1408</td>\n",
       "      <td>48.5</td>\n",
       "      <td>25</td>\n",
       "      <td>0</td>\n",
       "      <td>0</td>\n",
       "      <td>0</td>\n",
       "      <td>0</td>\n",
       "      <td>0</td>\n",
       "    </tr>\n",
       "    <tr>\n",
       "      <th>9999</th>\n",
       "      <td>308.7</td>\n",
       "      <td>1500</td>\n",
       "      <td>40.2</td>\n",
       "      <td>30</td>\n",
       "      <td>0</td>\n",
       "      <td>0</td>\n",
       "      <td>0</td>\n",
       "      <td>0</td>\n",
       "      <td>0</td>\n",
       "    </tr>\n",
       "  </tbody>\n",
       "</table>\n",
       "<p>10000 rows × 9 columns</p>\n",
       "</div>"
      ],
      "text/plain": [
       "      ProcesstemperatureK  Rotationalspeedrpm  TorqueNm  Toolwearmin  TWF  \\\n",
       "0                   308.6                1551      42.8            0    0   \n",
       "1                   308.7                1408      46.3            3    0   \n",
       "2                   308.5                1498      49.4            5    0   \n",
       "3                   308.6                1433      39.5            7    0   \n",
       "4                   308.7                1408      40.0            9    0   \n",
       "...                   ...                 ...       ...          ...  ...   \n",
       "9995                308.4                1604      29.5           14    0   \n",
       "9996                308.4                1632      31.8           17    0   \n",
       "9997                308.6                1645      33.4           22    0   \n",
       "9998                308.7                1408      48.5           25    0   \n",
       "9999                308.7                1500      40.2           30    0   \n",
       "\n",
       "      HDF  PWF  OSF  RNF  \n",
       "0       0    0    0    0  \n",
       "1       0    0    0    0  \n",
       "2       0    0    0    0  \n",
       "3       0    0    0    0  \n",
       "4       0    0    0    0  \n",
       "...   ...  ...  ...  ...  \n",
       "9995    0    0    0    0  \n",
       "9996    0    0    0    0  \n",
       "9997    0    0    0    0  \n",
       "9998    0    0    0    0  \n",
       "9999    0    0    0    0  \n",
       "\n",
       "[10000 rows x 9 columns]"
      ]
     },
     "execution_count": 8,
     "metadata": {},
     "output_type": "execute_result"
    }
   ],
   "source": [
    "X"
   ]
  },
  {
   "cell_type": "code",
   "execution_count": 9,
   "id": "8e1d2a81",
   "metadata": {},
   "outputs": [],
   "source": [
    "y = df['AirtemperatureK']"
   ]
  },
  {
   "cell_type": "code",
   "execution_count": 10,
   "id": "427e7217",
   "metadata": {},
   "outputs": [
    {
     "data": {
      "text/plain": [
       "0       298.1\n",
       "1       298.2\n",
       "2       298.1\n",
       "3       298.2\n",
       "4       298.2\n",
       "        ...  \n",
       "9995    298.8\n",
       "9996    298.9\n",
       "9997    299.0\n",
       "9998    299.0\n",
       "9999    299.0\n",
       "Name: AirtemperatureK, Length: 10000, dtype: float64"
      ]
     },
     "execution_count": 10,
     "metadata": {},
     "output_type": "execute_result"
    }
   ],
   "source": [
    "y"
   ]
  },
  {
   "cell_type": "markdown",
   "id": "72be2816",
   "metadata": {},
   "source": [
    "## Data PreProcessing - Standardization"
   ]
  },
  {
   "cell_type": "code",
   "execution_count": 11,
   "id": "d51de346",
   "metadata": {},
   "outputs": [],
   "source": [
    "scaler = StandardScaler()\n",
    "arr = scaler.fit_transform(X)"
   ]
  },
  {
   "cell_type": "code",
   "execution_count": 12,
   "id": "046b8eb4",
   "metadata": {},
   "outputs": [
    {
     "data": {
      "text/plain": [
       "array([[-0.94735989,  0.06818514,  0.28219976, ..., -0.09793424,\n",
       "        -0.09948362, -0.04363046],\n",
       "       [-0.879959  , -0.72947151,  0.63330802, ..., -0.09793424,\n",
       "        -0.09948362, -0.04363046],\n",
       "       [-1.01476077, -0.22744984,  0.94428963, ..., -0.09793424,\n",
       "        -0.09948362, -0.04363046],\n",
       "       ...,\n",
       "       [-0.94735989,  0.59251888, -0.66077672, ..., -0.09793424,\n",
       "        -0.09948362, -0.04363046],\n",
       "       [-0.879959  , -0.72947151,  0.85400464, ..., -0.09793424,\n",
       "        -0.09948362, -0.04363046],\n",
       "       [-0.879959  , -0.2162938 ,  0.02137647, ..., -0.09793424,\n",
       "        -0.09948362, -0.04363046]])"
      ]
     },
     "execution_count": 12,
     "metadata": {},
     "output_type": "execute_result"
    }
   ],
   "source": [
    "arr"
   ]
  },
  {
   "cell_type": "code",
   "execution_count": 13,
   "id": "c03bbc6b",
   "metadata": {},
   "outputs": [],
   "source": [
    "df1 = pd.DataFrame(arr)"
   ]
  },
  {
   "cell_type": "code",
   "execution_count": 14,
   "id": "7222fe16",
   "metadata": {},
   "outputs": [
    {
     "data": {
      "text/html": [
       "<div>\n",
       "<style scoped>\n",
       "    .dataframe tbody tr th:only-of-type {\n",
       "        vertical-align: middle;\n",
       "    }\n",
       "\n",
       "    .dataframe tbody tr th {\n",
       "        vertical-align: top;\n",
       "    }\n",
       "\n",
       "    .dataframe thead th {\n",
       "        text-align: right;\n",
       "    }\n",
       "</style>\n",
       "<table border=\"1\" class=\"dataframe\">\n",
       "  <thead>\n",
       "    <tr style=\"text-align: right;\">\n",
       "      <th></th>\n",
       "      <th>ProcesstemperatureK</th>\n",
       "      <th>Rotationalspeedrpm</th>\n",
       "      <th>TorqueNm</th>\n",
       "      <th>Toolwearmin</th>\n",
       "      <th>TWF</th>\n",
       "      <th>HDF</th>\n",
       "      <th>PWF</th>\n",
       "      <th>OSF</th>\n",
       "      <th>RNF</th>\n",
       "    </tr>\n",
       "  </thead>\n",
       "  <tbody>\n",
       "    <tr>\n",
       "      <th>0</th>\n",
       "      <td>-0.947360</td>\n",
       "      <td>0.068185</td>\n",
       "      <td>0.282200</td>\n",
       "      <td>-1.695984</td>\n",
       "      <td>-0.06798</td>\n",
       "      <td>-0.10786</td>\n",
       "      <td>-0.097934</td>\n",
       "      <td>-0.099484</td>\n",
       "      <td>-0.04363</td>\n",
       "    </tr>\n",
       "    <tr>\n",
       "      <th>1</th>\n",
       "      <td>-0.879959</td>\n",
       "      <td>-0.729472</td>\n",
       "      <td>0.633308</td>\n",
       "      <td>-1.648852</td>\n",
       "      <td>-0.06798</td>\n",
       "      <td>-0.10786</td>\n",
       "      <td>-0.097934</td>\n",
       "      <td>-0.099484</td>\n",
       "      <td>-0.04363</td>\n",
       "    </tr>\n",
       "    <tr>\n",
       "      <th>2</th>\n",
       "      <td>-1.014761</td>\n",
       "      <td>-0.227450</td>\n",
       "      <td>0.944290</td>\n",
       "      <td>-1.617430</td>\n",
       "      <td>-0.06798</td>\n",
       "      <td>-0.10786</td>\n",
       "      <td>-0.097934</td>\n",
       "      <td>-0.099484</td>\n",
       "      <td>-0.04363</td>\n",
       "    </tr>\n",
       "    <tr>\n",
       "      <th>3</th>\n",
       "      <td>-0.947360</td>\n",
       "      <td>-0.590021</td>\n",
       "      <td>-0.048845</td>\n",
       "      <td>-1.586009</td>\n",
       "      <td>-0.06798</td>\n",
       "      <td>-0.10786</td>\n",
       "      <td>-0.097934</td>\n",
       "      <td>-0.099484</td>\n",
       "      <td>-0.04363</td>\n",
       "    </tr>\n",
       "    <tr>\n",
       "      <th>4</th>\n",
       "      <td>-0.879959</td>\n",
       "      <td>-0.729472</td>\n",
       "      <td>0.001313</td>\n",
       "      <td>-1.554588</td>\n",
       "      <td>-0.06798</td>\n",
       "      <td>-0.10786</td>\n",
       "      <td>-0.097934</td>\n",
       "      <td>-0.099484</td>\n",
       "      <td>-0.04363</td>\n",
       "    </tr>\n",
       "    <tr>\n",
       "      <th>...</th>\n",
       "      <td>...</td>\n",
       "      <td>...</td>\n",
       "      <td>...</td>\n",
       "      <td>...</td>\n",
       "      <td>...</td>\n",
       "      <td>...</td>\n",
       "      <td>...</td>\n",
       "      <td>...</td>\n",
       "      <td>...</td>\n",
       "    </tr>\n",
       "    <tr>\n",
       "      <th>9995</th>\n",
       "      <td>-1.082162</td>\n",
       "      <td>0.363820</td>\n",
       "      <td>-1.052012</td>\n",
       "      <td>-1.476034</td>\n",
       "      <td>-0.06798</td>\n",
       "      <td>-0.10786</td>\n",
       "      <td>-0.097934</td>\n",
       "      <td>-0.099484</td>\n",
       "      <td>-0.04363</td>\n",
       "    </tr>\n",
       "    <tr>\n",
       "      <th>9996</th>\n",
       "      <td>-1.082162</td>\n",
       "      <td>0.520005</td>\n",
       "      <td>-0.821283</td>\n",
       "      <td>-1.428902</td>\n",
       "      <td>-0.06798</td>\n",
       "      <td>-0.10786</td>\n",
       "      <td>-0.097934</td>\n",
       "      <td>-0.099484</td>\n",
       "      <td>-0.04363</td>\n",
       "    </tr>\n",
       "    <tr>\n",
       "      <th>9997</th>\n",
       "      <td>-0.947360</td>\n",
       "      <td>0.592519</td>\n",
       "      <td>-0.660777</td>\n",
       "      <td>-1.350349</td>\n",
       "      <td>-0.06798</td>\n",
       "      <td>-0.10786</td>\n",
       "      <td>-0.097934</td>\n",
       "      <td>-0.099484</td>\n",
       "      <td>-0.04363</td>\n",
       "    </tr>\n",
       "    <tr>\n",
       "      <th>9998</th>\n",
       "      <td>-0.879959</td>\n",
       "      <td>-0.729472</td>\n",
       "      <td>0.854005</td>\n",
       "      <td>-1.303217</td>\n",
       "      <td>-0.06798</td>\n",
       "      <td>-0.10786</td>\n",
       "      <td>-0.097934</td>\n",
       "      <td>-0.099484</td>\n",
       "      <td>-0.04363</td>\n",
       "    </tr>\n",
       "    <tr>\n",
       "      <th>9999</th>\n",
       "      <td>-0.879959</td>\n",
       "      <td>-0.216294</td>\n",
       "      <td>0.021376</td>\n",
       "      <td>-1.224663</td>\n",
       "      <td>-0.06798</td>\n",
       "      <td>-0.10786</td>\n",
       "      <td>-0.097934</td>\n",
       "      <td>-0.099484</td>\n",
       "      <td>-0.04363</td>\n",
       "    </tr>\n",
       "  </tbody>\n",
       "</table>\n",
       "<p>10000 rows × 9 columns</p>\n",
       "</div>"
      ],
      "text/plain": [
       "      ProcesstemperatureK  Rotationalspeedrpm  TorqueNm  Toolwearmin      TWF  \\\n",
       "0               -0.947360            0.068185  0.282200    -1.695984 -0.06798   \n",
       "1               -0.879959           -0.729472  0.633308    -1.648852 -0.06798   \n",
       "2               -1.014761           -0.227450  0.944290    -1.617430 -0.06798   \n",
       "3               -0.947360           -0.590021 -0.048845    -1.586009 -0.06798   \n",
       "4               -0.879959           -0.729472  0.001313    -1.554588 -0.06798   \n",
       "...                   ...                 ...       ...          ...      ...   \n",
       "9995            -1.082162            0.363820 -1.052012    -1.476034 -0.06798   \n",
       "9996            -1.082162            0.520005 -0.821283    -1.428902 -0.06798   \n",
       "9997            -0.947360            0.592519 -0.660777    -1.350349 -0.06798   \n",
       "9998            -0.879959           -0.729472  0.854005    -1.303217 -0.06798   \n",
       "9999            -0.879959           -0.216294  0.021376    -1.224663 -0.06798   \n",
       "\n",
       "          HDF       PWF       OSF      RNF  \n",
       "0    -0.10786 -0.097934 -0.099484 -0.04363  \n",
       "1    -0.10786 -0.097934 -0.099484 -0.04363  \n",
       "2    -0.10786 -0.097934 -0.099484 -0.04363  \n",
       "3    -0.10786 -0.097934 -0.099484 -0.04363  \n",
       "4    -0.10786 -0.097934 -0.099484 -0.04363  \n",
       "...       ...       ...       ...      ...  \n",
       "9995 -0.10786 -0.097934 -0.099484 -0.04363  \n",
       "9996 -0.10786 -0.097934 -0.099484 -0.04363  \n",
       "9997 -0.10786 -0.097934 -0.099484 -0.04363  \n",
       "9998 -0.10786 -0.097934 -0.099484 -0.04363  \n",
       "9999 -0.10786 -0.097934 -0.099484 -0.04363  \n",
       "\n",
       "[10000 rows x 9 columns]"
      ]
     },
     "execution_count": 14,
     "metadata": {},
     "output_type": "execute_result"
    }
   ],
   "source": [
    "df1.columns = X.columns\n",
    "df1"
   ]
  },
  {
   "cell_type": "code",
   "execution_count": 15,
   "id": "c4dfdf7b",
   "metadata": {},
   "outputs": [
    {
     "data": {
      "text/html": [
       "<div>\n",
       "<style scoped>\n",
       "    .dataframe tbody tr th:only-of-type {\n",
       "        vertical-align: middle;\n",
       "    }\n",
       "\n",
       "    .dataframe tbody tr th {\n",
       "        vertical-align: top;\n",
       "    }\n",
       "\n",
       "    .dataframe thead th {\n",
       "        text-align: right;\n",
       "    }\n",
       "</style>\n",
       "<table border=\"1\" class=\"dataframe\">\n",
       "  <thead>\n",
       "    <tr style=\"text-align: right;\">\n",
       "      <th></th>\n",
       "      <th>ProcesstemperatureK</th>\n",
       "      <th>Rotationalspeedrpm</th>\n",
       "      <th>TorqueNm</th>\n",
       "      <th>Toolwearmin</th>\n",
       "      <th>TWF</th>\n",
       "      <th>HDF</th>\n",
       "      <th>PWF</th>\n",
       "      <th>OSF</th>\n",
       "      <th>RNF</th>\n",
       "    </tr>\n",
       "  </thead>\n",
       "  <tbody>\n",
       "    <tr>\n",
       "      <th>count</th>\n",
       "      <td>1.000000e+04</td>\n",
       "      <td>1.000000e+04</td>\n",
       "      <td>1.000000e+04</td>\n",
       "      <td>1.000000e+04</td>\n",
       "      <td>1.000000e+04</td>\n",
       "      <td>1.000000e+04</td>\n",
       "      <td>1.000000e+04</td>\n",
       "      <td>1.000000e+04</td>\n",
       "      <td>1.000000e+04</td>\n",
       "    </tr>\n",
       "    <tr>\n",
       "      <th>mean</th>\n",
       "      <td>3.841483e-15</td>\n",
       "      <td>-2.554568e-16</td>\n",
       "      <td>5.259244e-16</td>\n",
       "      <td>4.147793e-17</td>\n",
       "      <td>1.447314e-16</td>\n",
       "      <td>3.394757e-16</td>\n",
       "      <td>2.058548e-16</td>\n",
       "      <td>4.610007e-16</td>\n",
       "      <td>1.075350e-15</td>\n",
       "    </tr>\n",
       "    <tr>\n",
       "      <th>std</th>\n",
       "      <td>1.000050e+00</td>\n",
       "      <td>1.000050e+00</td>\n",
       "      <td>1.000050e+00</td>\n",
       "      <td>1.000050e+00</td>\n",
       "      <td>1.000050e+00</td>\n",
       "      <td>1.000050e+00</td>\n",
       "      <td>1.000050e+00</td>\n",
       "      <td>1.000050e+00</td>\n",
       "      <td>1.000050e+00</td>\n",
       "    </tr>\n",
       "    <tr>\n",
       "      <th>min</th>\n",
       "      <td>-2.901986e+00</td>\n",
       "      <td>-2.068196e+00</td>\n",
       "      <td>-3.630149e+00</td>\n",
       "      <td>-1.695984e+00</td>\n",
       "      <td>-6.797983e-02</td>\n",
       "      <td>-1.078600e-01</td>\n",
       "      <td>-9.793424e-02</td>\n",
       "      <td>-9.948362e-02</td>\n",
       "      <td>-4.363046e-02</td>\n",
       "    </tr>\n",
       "    <tr>\n",
       "      <th>25%</th>\n",
       "      <td>-8.125581e-01</td>\n",
       "      <td>-6.458012e-01</td>\n",
       "      <td>-6.808401e-01</td>\n",
       "      <td>-8.633176e-01</td>\n",
       "      <td>-6.797983e-02</td>\n",
       "      <td>-1.078600e-01</td>\n",
       "      <td>-9.793424e-02</td>\n",
       "      <td>-9.948362e-02</td>\n",
       "      <td>-4.363046e-02</td>\n",
       "    </tr>\n",
       "    <tr>\n",
       "      <th>50%</th>\n",
       "      <td>6.365340e-02</td>\n",
       "      <td>-1.995597e-01</td>\n",
       "      <td>1.134481e-02</td>\n",
       "      <td>7.698234e-04</td>\n",
       "      <td>-6.797983e-02</td>\n",
       "      <td>-1.078600e-01</td>\n",
       "      <td>-9.793424e-02</td>\n",
       "      <td>-9.948362e-02</td>\n",
       "      <td>-4.363046e-02</td>\n",
       "    </tr>\n",
       "    <tr>\n",
       "      <th>75%</th>\n",
       "      <td>7.376623e-01</td>\n",
       "      <td>4.084443e-01</td>\n",
       "      <td>6.834663e-01</td>\n",
       "      <td>8.491466e-01</td>\n",
       "      <td>-6.797983e-02</td>\n",
       "      <td>-1.078600e-01</td>\n",
       "      <td>-9.793424e-02</td>\n",
       "      <td>-9.948362e-02</td>\n",
       "      <td>-4.363046e-02</td>\n",
       "    </tr>\n",
       "    <tr>\n",
       "      <th>max</th>\n",
       "      <td>2.557486e+00</td>\n",
       "      <td>7.514840e+00</td>\n",
       "      <td>3.672902e+00</td>\n",
       "      <td>2.278819e+00</td>\n",
       "      <td>1.471024e+01</td>\n",
       "      <td>9.271274e+00</td>\n",
       "      <td>1.021093e+01</td>\n",
       "      <td>1.005191e+01</td>\n",
       "      <td>2.291977e+01</td>\n",
       "    </tr>\n",
       "  </tbody>\n",
       "</table>\n",
       "</div>"
      ],
      "text/plain": [
       "       ProcesstemperatureK  Rotationalspeedrpm      TorqueNm   Toolwearmin  \\\n",
       "count         1.000000e+04        1.000000e+04  1.000000e+04  1.000000e+04   \n",
       "mean          3.841483e-15       -2.554568e-16  5.259244e-16  4.147793e-17   \n",
       "std           1.000050e+00        1.000050e+00  1.000050e+00  1.000050e+00   \n",
       "min          -2.901986e+00       -2.068196e+00 -3.630149e+00 -1.695984e+00   \n",
       "25%          -8.125581e-01       -6.458012e-01 -6.808401e-01 -8.633176e-01   \n",
       "50%           6.365340e-02       -1.995597e-01  1.134481e-02  7.698234e-04   \n",
       "75%           7.376623e-01        4.084443e-01  6.834663e-01  8.491466e-01   \n",
       "max           2.557486e+00        7.514840e+00  3.672902e+00  2.278819e+00   \n",
       "\n",
       "                TWF           HDF           PWF           OSF           RNF  \n",
       "count  1.000000e+04  1.000000e+04  1.000000e+04  1.000000e+04  1.000000e+04  \n",
       "mean   1.447314e-16  3.394757e-16  2.058548e-16  4.610007e-16  1.075350e-15  \n",
       "std    1.000050e+00  1.000050e+00  1.000050e+00  1.000050e+00  1.000050e+00  \n",
       "min   -6.797983e-02 -1.078600e-01 -9.793424e-02 -9.948362e-02 -4.363046e-02  \n",
       "25%   -6.797983e-02 -1.078600e-01 -9.793424e-02 -9.948362e-02 -4.363046e-02  \n",
       "50%   -6.797983e-02 -1.078600e-01 -9.793424e-02 -9.948362e-02 -4.363046e-02  \n",
       "75%   -6.797983e-02 -1.078600e-01 -9.793424e-02 -9.948362e-02 -4.363046e-02  \n",
       "max    1.471024e+01  9.271274e+00  1.021093e+01  1.005191e+01  2.291977e+01  "
      ]
     },
     "execution_count": 15,
     "metadata": {},
     "output_type": "execute_result"
    }
   ],
   "source": [
    "df1.describe()"
   ]
  },
  {
   "cell_type": "markdown",
   "id": "0f9e806d",
   "metadata": {},
   "source": [
    "## Check Multicolliarity"
   ]
  },
  {
   "cell_type": "code",
   "execution_count": 16,
   "id": "5fc3c266",
   "metadata": {},
   "outputs": [],
   "source": [
    "from statsmodels.stats.outliers_influence import variance_inflation_factor"
   ]
  },
  {
   "cell_type": "code",
   "execution_count": 17,
   "id": "cfa2ce6a",
   "metadata": {},
   "outputs": [
    {
     "data": {
      "text/html": [
       "<div>\n",
       "<style scoped>\n",
       "    .dataframe tbody tr th:only-of-type {\n",
       "        vertical-align: middle;\n",
       "    }\n",
       "\n",
       "    .dataframe tbody tr th {\n",
       "        vertical-align: top;\n",
       "    }\n",
       "\n",
       "    .dataframe thead th {\n",
       "        text-align: right;\n",
       "    }\n",
       "</style>\n",
       "<table border=\"1\" class=\"dataframe\">\n",
       "  <thead>\n",
       "    <tr style=\"text-align: right;\">\n",
       "      <th></th>\n",
       "      <th>vif_factor</th>\n",
       "      <th>vif_predictors</th>\n",
       "    </tr>\n",
       "  </thead>\n",
       "  <tbody>\n",
       "    <tr>\n",
       "      <th>0</th>\n",
       "      <td>1.004777</td>\n",
       "      <td>ProcesstemperatureK</td>\n",
       "    </tr>\n",
       "    <tr>\n",
       "      <th>1</th>\n",
       "      <td>5.154221</td>\n",
       "      <td>Rotationalspeedrpm</td>\n",
       "    </tr>\n",
       "    <tr>\n",
       "      <th>2</th>\n",
       "      <td>5.222899</td>\n",
       "      <td>TorqueNm</td>\n",
       "    </tr>\n",
       "    <tr>\n",
       "      <th>3</th>\n",
       "      <td>1.039904</td>\n",
       "      <td>Toolwearmin</td>\n",
       "    </tr>\n",
       "    <tr>\n",
       "      <th>4</th>\n",
       "      <td>1.015584</td>\n",
       "      <td>TWF</td>\n",
       "    </tr>\n",
       "    <tr>\n",
       "      <th>5</th>\n",
       "      <td>1.024976</td>\n",
       "      <td>HDF</td>\n",
       "    </tr>\n",
       "    <tr>\n",
       "      <th>6</th>\n",
       "      <td>1.212152</td>\n",
       "      <td>PWF</td>\n",
       "    </tr>\n",
       "    <tr>\n",
       "      <th>7</th>\n",
       "      <td>1.082597</td>\n",
       "      <td>OSF</td>\n",
       "    </tr>\n",
       "    <tr>\n",
       "      <th>8</th>\n",
       "      <td>1.002015</td>\n",
       "      <td>RNF</td>\n",
       "    </tr>\n",
       "  </tbody>\n",
       "</table>\n",
       "</div>"
      ],
      "text/plain": [
       "   vif_factor       vif_predictors\n",
       "0    1.004777  ProcesstemperatureK\n",
       "1    5.154221   Rotationalspeedrpm\n",
       "2    5.222899             TorqueNm\n",
       "3    1.039904          Toolwearmin\n",
       "4    1.015584                  TWF\n",
       "5    1.024976                  HDF\n",
       "6    1.212152                  PWF\n",
       "7    1.082597                  OSF\n",
       "8    1.002015                  RNF"
      ]
     },
     "execution_count": 17,
     "metadata": {},
     "output_type": "execute_result"
    }
   ],
   "source": [
    "vif = pd.DataFrame()\n",
    "vif['vif_factor'] =  [variance_inflation_factor(df1.values, i) for i in range(df1.shape[1])]\n",
    "vif['vif_predictors'] = X.columns\n",
    "vif"
   ]
  },
  {
   "cell_type": "markdown",
   "id": "0b01d7a6",
   "metadata": {},
   "source": [
    "- we found multicollinearity in MAchinefailure column VIF > 10, dropping feature \"Machinefailure\""
   ]
  },
  {
   "cell_type": "markdown",
   "id": "18c09788",
   "metadata": {},
   "source": [
    "## Splitting the data"
   ]
  },
  {
   "cell_type": "code",
   "execution_count": 18,
   "id": "c6d1d431",
   "metadata": {},
   "outputs": [],
   "source": [
    "x_train, x_test, y_train, y_test = train_test_split(df1,y,test_size=0.2,random_state=100)"
   ]
  },
  {
   "cell_type": "code",
   "execution_count": 19,
   "id": "98c49b27",
   "metadata": {},
   "outputs": [
    {
     "data": {
      "text/html": [
       "<div>\n",
       "<style scoped>\n",
       "    .dataframe tbody tr th:only-of-type {\n",
       "        vertical-align: middle;\n",
       "    }\n",
       "\n",
       "    .dataframe tbody tr th {\n",
       "        vertical-align: top;\n",
       "    }\n",
       "\n",
       "    .dataframe thead th {\n",
       "        text-align: right;\n",
       "    }\n",
       "</style>\n",
       "<table border=\"1\" class=\"dataframe\">\n",
       "  <thead>\n",
       "    <tr style=\"text-align: right;\">\n",
       "      <th></th>\n",
       "      <th>ProcesstemperatureK</th>\n",
       "      <th>Rotationalspeedrpm</th>\n",
       "      <th>TorqueNm</th>\n",
       "      <th>Toolwearmin</th>\n",
       "      <th>TWF</th>\n",
       "      <th>HDF</th>\n",
       "      <th>PWF</th>\n",
       "      <th>OSF</th>\n",
       "      <th>RNF</th>\n",
       "    </tr>\n",
       "  </thead>\n",
       "  <tbody>\n",
       "    <tr>\n",
       "      <th>8369</th>\n",
       "      <td>-0.205950</td>\n",
       "      <td>2.310549</td>\n",
       "      <td>-1.944830</td>\n",
       "      <td>-1.303217</td>\n",
       "      <td>-0.06798</td>\n",
       "      <td>-0.10786</td>\n",
       "      <td>-0.097934</td>\n",
       "      <td>-0.099484</td>\n",
       "      <td>-0.04363</td>\n",
       "    </tr>\n",
       "    <tr>\n",
       "      <th>9722</th>\n",
       "      <td>-0.138549</td>\n",
       "      <td>2.076272</td>\n",
       "      <td>-1.844513</td>\n",
       "      <td>0.283562</td>\n",
       "      <td>-0.06798</td>\n",
       "      <td>-0.10786</td>\n",
       "      <td>-0.097934</td>\n",
       "      <td>-0.099484</td>\n",
       "      <td>-0.04363</td>\n",
       "    </tr>\n",
       "    <tr>\n",
       "      <th>6950</th>\n",
       "      <td>0.872464</td>\n",
       "      <td>-0.919124</td>\n",
       "      <td>1.315461</td>\n",
       "      <td>-0.659079</td>\n",
       "      <td>-0.06798</td>\n",
       "      <td>-0.10786</td>\n",
       "      <td>-0.097934</td>\n",
       "      <td>-0.099484</td>\n",
       "      <td>-0.04363</td>\n",
       "    </tr>\n",
       "    <tr>\n",
       "      <th>1919</th>\n",
       "      <td>-1.351765</td>\n",
       "      <td>0.665033</td>\n",
       "      <td>-1.001853</td>\n",
       "      <td>-1.648852</td>\n",
       "      <td>-0.06798</td>\n",
       "      <td>-0.10786</td>\n",
       "      <td>-0.097934</td>\n",
       "      <td>-0.099484</td>\n",
       "      <td>-0.04363</td>\n",
       "    </tr>\n",
       "    <tr>\n",
       "      <th>5713</th>\n",
       "      <td>1.276869</td>\n",
       "      <td>0.319196</td>\n",
       "      <td>-0.199320</td>\n",
       "      <td>0.754883</td>\n",
       "      <td>-0.06798</td>\n",
       "      <td>-0.10786</td>\n",
       "      <td>-0.097934</td>\n",
       "      <td>-0.099484</td>\n",
       "      <td>-0.04363</td>\n",
       "    </tr>\n",
       "    <tr>\n",
       "      <th>...</th>\n",
       "      <td>...</td>\n",
       "      <td>...</td>\n",
       "      <td>...</td>\n",
       "      <td>...</td>\n",
       "      <td>...</td>\n",
       "      <td>...</td>\n",
       "      <td>...</td>\n",
       "      <td>...</td>\n",
       "      <td>...</td>\n",
       "    </tr>\n",
       "    <tr>\n",
       "      <th>350</th>\n",
       "      <td>-1.149563</td>\n",
       "      <td>-0.774096</td>\n",
       "      <td>0.432675</td>\n",
       "      <td>-1.020424</td>\n",
       "      <td>-0.06798</td>\n",
       "      <td>-0.10786</td>\n",
       "      <td>-0.097934</td>\n",
       "      <td>-0.099484</td>\n",
       "      <td>-0.04363</td>\n",
       "    </tr>\n",
       "    <tr>\n",
       "      <th>79</th>\n",
       "      <td>-0.745157</td>\n",
       "      <td>-0.762940</td>\n",
       "      <td>-0.209352</td>\n",
       "      <td>-1.664562</td>\n",
       "      <td>-0.06798</td>\n",
       "      <td>-0.10786</td>\n",
       "      <td>-0.097934</td>\n",
       "      <td>-0.099484</td>\n",
       "      <td>-0.04363</td>\n",
       "    </tr>\n",
       "    <tr>\n",
       "      <th>8039</th>\n",
       "      <td>1.276869</td>\n",
       "      <td>0.118387</td>\n",
       "      <td>-0.821283</td>\n",
       "      <td>-1.366059</td>\n",
       "      <td>-0.06798</td>\n",
       "      <td>-0.10786</td>\n",
       "      <td>-0.097934</td>\n",
       "      <td>-0.099484</td>\n",
       "      <td>-0.04363</td>\n",
       "    </tr>\n",
       "    <tr>\n",
       "      <th>6936</th>\n",
       "      <td>0.737662</td>\n",
       "      <td>-0.378056</td>\n",
       "      <td>0.071535</td>\n",
       "      <td>-1.287506</td>\n",
       "      <td>-0.06798</td>\n",
       "      <td>-0.10786</td>\n",
       "      <td>-0.097934</td>\n",
       "      <td>-0.099484</td>\n",
       "      <td>-0.04363</td>\n",
       "    </tr>\n",
       "    <tr>\n",
       "      <th>5640</th>\n",
       "      <td>1.411671</td>\n",
       "      <td>-0.662535</td>\n",
       "      <td>1.164986</td>\n",
       "      <td>1.163360</td>\n",
       "      <td>-0.06798</td>\n",
       "      <td>-0.10786</td>\n",
       "      <td>-0.097934</td>\n",
       "      <td>-0.099484</td>\n",
       "      <td>-0.04363</td>\n",
       "    </tr>\n",
       "  </tbody>\n",
       "</table>\n",
       "<p>8000 rows × 9 columns</p>\n",
       "</div>"
      ],
      "text/plain": [
       "      ProcesstemperatureK  Rotationalspeedrpm  TorqueNm  Toolwearmin      TWF  \\\n",
       "8369            -0.205950            2.310549 -1.944830    -1.303217 -0.06798   \n",
       "9722            -0.138549            2.076272 -1.844513     0.283562 -0.06798   \n",
       "6950             0.872464           -0.919124  1.315461    -0.659079 -0.06798   \n",
       "1919            -1.351765            0.665033 -1.001853    -1.648852 -0.06798   \n",
       "5713             1.276869            0.319196 -0.199320     0.754883 -0.06798   \n",
       "...                   ...                 ...       ...          ...      ...   \n",
       "350             -1.149563           -0.774096  0.432675    -1.020424 -0.06798   \n",
       "79              -0.745157           -0.762940 -0.209352    -1.664562 -0.06798   \n",
       "8039             1.276869            0.118387 -0.821283    -1.366059 -0.06798   \n",
       "6936             0.737662           -0.378056  0.071535    -1.287506 -0.06798   \n",
       "5640             1.411671           -0.662535  1.164986     1.163360 -0.06798   \n",
       "\n",
       "          HDF       PWF       OSF      RNF  \n",
       "8369 -0.10786 -0.097934 -0.099484 -0.04363  \n",
       "9722 -0.10786 -0.097934 -0.099484 -0.04363  \n",
       "6950 -0.10786 -0.097934 -0.099484 -0.04363  \n",
       "1919 -0.10786 -0.097934 -0.099484 -0.04363  \n",
       "5713 -0.10786 -0.097934 -0.099484 -0.04363  \n",
       "...       ...       ...       ...      ...  \n",
       "350  -0.10786 -0.097934 -0.099484 -0.04363  \n",
       "79   -0.10786 -0.097934 -0.099484 -0.04363  \n",
       "8039 -0.10786 -0.097934 -0.099484 -0.04363  \n",
       "6936 -0.10786 -0.097934 -0.099484 -0.04363  \n",
       "5640 -0.10786 -0.097934 -0.099484 -0.04363  \n",
       "\n",
       "[8000 rows x 9 columns]"
      ]
     },
     "execution_count": 19,
     "metadata": {},
     "output_type": "execute_result"
    }
   ],
   "source": [
    "x_train"
   ]
  },
  {
   "cell_type": "code",
   "execution_count": 20,
   "id": "4a719f5b",
   "metadata": {},
   "outputs": [
    {
     "data": {
      "text/html": [
       "<div>\n",
       "<style scoped>\n",
       "    .dataframe tbody tr th:only-of-type {\n",
       "        vertical-align: middle;\n",
       "    }\n",
       "\n",
       "    .dataframe tbody tr th {\n",
       "        vertical-align: top;\n",
       "    }\n",
       "\n",
       "    .dataframe thead th {\n",
       "        text-align: right;\n",
       "    }\n",
       "</style>\n",
       "<table border=\"1\" class=\"dataframe\">\n",
       "  <thead>\n",
       "    <tr style=\"text-align: right;\">\n",
       "      <th></th>\n",
       "      <th>ProcesstemperatureK</th>\n",
       "      <th>Rotationalspeedrpm</th>\n",
       "      <th>TorqueNm</th>\n",
       "      <th>Toolwearmin</th>\n",
       "      <th>TWF</th>\n",
       "      <th>HDF</th>\n",
       "      <th>PWF</th>\n",
       "      <th>OSF</th>\n",
       "      <th>RNF</th>\n",
       "    </tr>\n",
       "  </thead>\n",
       "  <tbody>\n",
       "    <tr>\n",
       "      <th>8018</th>\n",
       "      <td>1.276869</td>\n",
       "      <td>1.953555</td>\n",
       "      <td>-1.653912</td>\n",
       "      <td>1.414731</td>\n",
       "      <td>-0.06798</td>\n",
       "      <td>-0.10786</td>\n",
       "      <td>-0.097934</td>\n",
       "      <td>-0.099484</td>\n",
       "      <td>-0.04363</td>\n",
       "    </tr>\n",
       "    <tr>\n",
       "      <th>9225</th>\n",
       "      <td>-0.610355</td>\n",
       "      <td>1.568672</td>\n",
       "      <td>-1.643880</td>\n",
       "      <td>0.189298</td>\n",
       "      <td>-0.06798</td>\n",
       "      <td>-0.10786</td>\n",
       "      <td>-0.097934</td>\n",
       "      <td>-0.099484</td>\n",
       "      <td>-0.04363</td>\n",
       "    </tr>\n",
       "    <tr>\n",
       "      <th>3854</th>\n",
       "      <td>0.670261</td>\n",
       "      <td>-1.119933</td>\n",
       "      <td>2.770053</td>\n",
       "      <td>1.351888</td>\n",
       "      <td>-0.06798</td>\n",
       "      <td>-0.10786</td>\n",
       "      <td>10.210933</td>\n",
       "      <td>10.051906</td>\n",
       "      <td>-0.04363</td>\n",
       "    </tr>\n",
       "    <tr>\n",
       "      <th>2029</th>\n",
       "      <td>-1.014761</td>\n",
       "      <td>0.720813</td>\n",
       "      <td>-0.480207</td>\n",
       "      <td>-0.486261</td>\n",
       "      <td>-0.06798</td>\n",
       "      <td>-0.10786</td>\n",
       "      <td>-0.097934</td>\n",
       "      <td>-0.099484</td>\n",
       "      <td>-0.04363</td>\n",
       "    </tr>\n",
       "    <tr>\n",
       "      <th>3539</th>\n",
       "      <td>0.670261</td>\n",
       "      <td>0.821218</td>\n",
       "      <td>-0.751062</td>\n",
       "      <td>-1.303217</td>\n",
       "      <td>-0.06798</td>\n",
       "      <td>-0.10786</td>\n",
       "      <td>-0.097934</td>\n",
       "      <td>-0.099484</td>\n",
       "      <td>-0.04363</td>\n",
       "    </tr>\n",
       "    <tr>\n",
       "      <th>...</th>\n",
       "      <td>...</td>\n",
       "      <td>...</td>\n",
       "      <td>...</td>\n",
       "      <td>...</td>\n",
       "      <td>...</td>\n",
       "      <td>...</td>\n",
       "      <td>...</td>\n",
       "      <td>...</td>\n",
       "      <td>...</td>\n",
       "    </tr>\n",
       "    <tr>\n",
       "      <th>6923</th>\n",
       "      <td>1.142068</td>\n",
       "      <td>-0.590021</td>\n",
       "      <td>0.934258</td>\n",
       "      <td>1.540417</td>\n",
       "      <td>-0.06798</td>\n",
       "      <td>-0.10786</td>\n",
       "      <td>-0.097934</td>\n",
       "      <td>-0.099484</td>\n",
       "      <td>-0.04363</td>\n",
       "    </tr>\n",
       "    <tr>\n",
       "      <th>1207</th>\n",
       "      <td>-1.284364</td>\n",
       "      <td>0.190902</td>\n",
       "      <td>-0.510302</td>\n",
       "      <td>-0.234890</td>\n",
       "      <td>-0.06798</td>\n",
       "      <td>-0.10786</td>\n",
       "      <td>-0.097934</td>\n",
       "      <td>-0.099484</td>\n",
       "      <td>-0.04363</td>\n",
       "    </tr>\n",
       "    <tr>\n",
       "      <th>7960</th>\n",
       "      <td>1.479072</td>\n",
       "      <td>-0.266496</td>\n",
       "      <td>0.262136</td>\n",
       "      <td>-0.879028</td>\n",
       "      <td>-0.06798</td>\n",
       "      <td>-0.10786</td>\n",
       "      <td>-0.097934</td>\n",
       "      <td>-0.099484</td>\n",
       "      <td>-0.04363</td>\n",
       "    </tr>\n",
       "    <tr>\n",
       "      <th>2339</th>\n",
       "      <td>-1.216963</td>\n",
       "      <td>-0.405946</td>\n",
       "      <td>0.131725</td>\n",
       "      <td>-1.570298</td>\n",
       "      <td>-0.06798</td>\n",
       "      <td>-0.10786</td>\n",
       "      <td>-0.097934</td>\n",
       "      <td>-0.099484</td>\n",
       "      <td>-0.04363</td>\n",
       "    </tr>\n",
       "    <tr>\n",
       "      <th>6637</th>\n",
       "      <td>0.333257</td>\n",
       "      <td>-0.478461</td>\n",
       "      <td>0.803846</td>\n",
       "      <td>0.252141</td>\n",
       "      <td>-0.06798</td>\n",
       "      <td>-0.10786</td>\n",
       "      <td>-0.097934</td>\n",
       "      <td>-0.099484</td>\n",
       "      <td>-0.04363</td>\n",
       "    </tr>\n",
       "  </tbody>\n",
       "</table>\n",
       "<p>2000 rows × 9 columns</p>\n",
       "</div>"
      ],
      "text/plain": [
       "      ProcesstemperatureK  Rotationalspeedrpm  TorqueNm  Toolwearmin      TWF  \\\n",
       "8018             1.276869            1.953555 -1.653912     1.414731 -0.06798   \n",
       "9225            -0.610355            1.568672 -1.643880     0.189298 -0.06798   \n",
       "3854             0.670261           -1.119933  2.770053     1.351888 -0.06798   \n",
       "2029            -1.014761            0.720813 -0.480207    -0.486261 -0.06798   \n",
       "3539             0.670261            0.821218 -0.751062    -1.303217 -0.06798   \n",
       "...                   ...                 ...       ...          ...      ...   \n",
       "6923             1.142068           -0.590021  0.934258     1.540417 -0.06798   \n",
       "1207            -1.284364            0.190902 -0.510302    -0.234890 -0.06798   \n",
       "7960             1.479072           -0.266496  0.262136    -0.879028 -0.06798   \n",
       "2339            -1.216963           -0.405946  0.131725    -1.570298 -0.06798   \n",
       "6637             0.333257           -0.478461  0.803846     0.252141 -0.06798   \n",
       "\n",
       "          HDF        PWF        OSF      RNF  \n",
       "8018 -0.10786  -0.097934  -0.099484 -0.04363  \n",
       "9225 -0.10786  -0.097934  -0.099484 -0.04363  \n",
       "3854 -0.10786  10.210933  10.051906 -0.04363  \n",
       "2029 -0.10786  -0.097934  -0.099484 -0.04363  \n",
       "3539 -0.10786  -0.097934  -0.099484 -0.04363  \n",
       "...       ...        ...        ...      ...  \n",
       "6923 -0.10786  -0.097934  -0.099484 -0.04363  \n",
       "1207 -0.10786  -0.097934  -0.099484 -0.04363  \n",
       "7960 -0.10786  -0.097934  -0.099484 -0.04363  \n",
       "2339 -0.10786  -0.097934  -0.099484 -0.04363  \n",
       "6637 -0.10786  -0.097934  -0.099484 -0.04363  \n",
       "\n",
       "[2000 rows x 9 columns]"
      ]
     },
     "execution_count": 20,
     "metadata": {},
     "output_type": "execute_result"
    }
   ],
   "source": [
    "x_test"
   ]
  },
  {
   "cell_type": "code",
   "execution_count": 21,
   "id": "afa6fc03",
   "metadata": {},
   "outputs": [
    {
     "data": {
      "text/plain": [
       "8369    298.8\n",
       "9722    298.8\n",
       "6950    300.7\n",
       "1919    298.2\n",
       "5713    302.2\n",
       "        ...  \n",
       "350     297.6\n",
       "79      298.8\n",
       "8039    300.8\n",
       "6936    300.6\n",
       "5640    302.6\n",
       "Name: AirtemperatureK, Length: 8000, dtype: float64"
      ]
     },
     "execution_count": 21,
     "metadata": {},
     "output_type": "execute_result"
    }
   ],
   "source": [
    "y_train"
   ]
  },
  {
   "cell_type": "code",
   "execution_count": 22,
   "id": "15818711",
   "metadata": {},
   "outputs": [
    {
     "data": {
      "text/plain": [
       "8018    301.0\n",
       "9225    298.0\n",
       "3854    302.4\n",
       "2029    298.7\n",
       "3539    302.0\n",
       "        ...  \n",
       "6923    301.2\n",
       "1207    297.0\n",
       "7960    301.1\n",
       "2339    299.2\n",
       "6637    301.5\n",
       "Name: AirtemperatureK, Length: 2000, dtype: float64"
      ]
     },
     "execution_count": 22,
     "metadata": {},
     "output_type": "execute_result"
    }
   ],
   "source": [
    "y_test"
   ]
  },
  {
   "cell_type": "markdown",
   "id": "c06ae058",
   "metadata": {},
   "source": [
    "## Training the model"
   ]
  },
  {
   "cell_type": "code",
   "execution_count": 23,
   "id": "bc932820",
   "metadata": {},
   "outputs": [
    {
     "data": {
      "text/plain": [
       "LinearRegression()"
      ]
     },
     "execution_count": 23,
     "metadata": {},
     "output_type": "execute_result"
    }
   ],
   "source": [
    "lr = LinearRegression()\n",
    "lr.fit(x_train,y_train)"
   ]
  },
  {
   "cell_type": "code",
   "execution_count": 24,
   "id": "a7969e7d",
   "metadata": {},
   "outputs": [
    {
     "data": {
      "text/plain": [
       "300.0071494966973"
      ]
     },
     "execution_count": 24,
     "metadata": {},
     "output_type": "execute_result"
    }
   ],
   "source": [
    "lr.intercept_"
   ]
  },
  {
   "cell_type": "code",
   "execution_count": 25,
   "id": "61ab4f0a",
   "metadata": {},
   "outputs": [
    {
     "data": {
      "text/plain": [
       "array([ 1.73515458,  0.01990572, -0.00698736,  0.00813639,  0.00951657,\n",
       "        0.17966539,  0.01333701, -0.01425019, -0.00286809])"
      ]
     },
     "execution_count": 25,
     "metadata": {},
     "output_type": "execute_result"
    }
   ],
   "source": [
    "lr.coef_"
   ]
  },
  {
   "cell_type": "markdown",
   "id": "55f4df9d",
   "metadata": {},
   "source": [
    "## Save linear model"
   ]
  },
  {
   "cell_type": "code",
   "execution_count": 26,
   "id": "3c660c93",
   "metadata": {},
   "outputs": [],
   "source": [
    "pickle.dump(lr,open('Ai4i_predictive_Maintenance.pickle','wb'))"
   ]
  },
  {
   "cell_type": "code",
   "execution_count": 27,
   "id": "d383c7a7",
   "metadata": {},
   "outputs": [],
   "source": [
    "lm = pickle.load(open('Ai4i_predictive_Maintenance.pickle','rb'))"
   ]
  },
  {
   "cell_type": "code",
   "execution_count": 28,
   "id": "87b17987",
   "metadata": {},
   "outputs": [
    {
     "data": {
      "text/plain": [
       "0.7965460964724072"
      ]
     },
     "execution_count": 28,
     "metadata": {},
     "output_type": "execute_result"
    }
   ],
   "source": [
    "lr_score = lm.score(x_test,y_test)\n",
    "lr_score"
   ]
  },
  {
   "cell_type": "code",
   "execution_count": 29,
   "id": "1dd4cbeb",
   "metadata": {},
   "outputs": [
    {
     "data": {
      "text/html": [
       "<div>\n",
       "<style scoped>\n",
       "    .dataframe tbody tr th:only-of-type {\n",
       "        vertical-align: middle;\n",
       "    }\n",
       "\n",
       "    .dataframe tbody tr th {\n",
       "        vertical-align: top;\n",
       "    }\n",
       "\n",
       "    .dataframe thead th {\n",
       "        text-align: right;\n",
       "    }\n",
       "</style>\n",
       "<table border=\"1\" class=\"dataframe\">\n",
       "  <thead>\n",
       "    <tr style=\"text-align: right;\">\n",
       "      <th></th>\n",
       "      <th>AirtemperatureK</th>\n",
       "      <th>ProcesstemperatureK</th>\n",
       "      <th>Rotationalspeedrpm</th>\n",
       "      <th>TorqueNm</th>\n",
       "      <th>Toolwearmin</th>\n",
       "      <th>TWF</th>\n",
       "      <th>HDF</th>\n",
       "      <th>PWF</th>\n",
       "      <th>OSF</th>\n",
       "      <th>RNF</th>\n",
       "    </tr>\n",
       "  </thead>\n",
       "  <tbody>\n",
       "    <tr>\n",
       "      <th>0</th>\n",
       "      <td>298.1</td>\n",
       "      <td>308.6</td>\n",
       "      <td>1551</td>\n",
       "      <td>42.8</td>\n",
       "      <td>0</td>\n",
       "      <td>0</td>\n",
       "      <td>0</td>\n",
       "      <td>0</td>\n",
       "      <td>0</td>\n",
       "      <td>0</td>\n",
       "    </tr>\n",
       "    <tr>\n",
       "      <th>1</th>\n",
       "      <td>298.2</td>\n",
       "      <td>308.7</td>\n",
       "      <td>1408</td>\n",
       "      <td>46.3</td>\n",
       "      <td>3</td>\n",
       "      <td>0</td>\n",
       "      <td>0</td>\n",
       "      <td>0</td>\n",
       "      <td>0</td>\n",
       "      <td>0</td>\n",
       "    </tr>\n",
       "    <tr>\n",
       "      <th>2</th>\n",
       "      <td>298.1</td>\n",
       "      <td>308.5</td>\n",
       "      <td>1498</td>\n",
       "      <td>49.4</td>\n",
       "      <td>5</td>\n",
       "      <td>0</td>\n",
       "      <td>0</td>\n",
       "      <td>0</td>\n",
       "      <td>0</td>\n",
       "      <td>0</td>\n",
       "    </tr>\n",
       "    <tr>\n",
       "      <th>3</th>\n",
       "      <td>298.2</td>\n",
       "      <td>308.6</td>\n",
       "      <td>1433</td>\n",
       "      <td>39.5</td>\n",
       "      <td>7</td>\n",
       "      <td>0</td>\n",
       "      <td>0</td>\n",
       "      <td>0</td>\n",
       "      <td>0</td>\n",
       "      <td>0</td>\n",
       "    </tr>\n",
       "    <tr>\n",
       "      <th>4</th>\n",
       "      <td>298.2</td>\n",
       "      <td>308.7</td>\n",
       "      <td>1408</td>\n",
       "      <td>40.0</td>\n",
       "      <td>9</td>\n",
       "      <td>0</td>\n",
       "      <td>0</td>\n",
       "      <td>0</td>\n",
       "      <td>0</td>\n",
       "      <td>0</td>\n",
       "    </tr>\n",
       "    <tr>\n",
       "      <th>...</th>\n",
       "      <td>...</td>\n",
       "      <td>...</td>\n",
       "      <td>...</td>\n",
       "      <td>...</td>\n",
       "      <td>...</td>\n",
       "      <td>...</td>\n",
       "      <td>...</td>\n",
       "      <td>...</td>\n",
       "      <td>...</td>\n",
       "      <td>...</td>\n",
       "    </tr>\n",
       "    <tr>\n",
       "      <th>9995</th>\n",
       "      <td>298.8</td>\n",
       "      <td>308.4</td>\n",
       "      <td>1604</td>\n",
       "      <td>29.5</td>\n",
       "      <td>14</td>\n",
       "      <td>0</td>\n",
       "      <td>0</td>\n",
       "      <td>0</td>\n",
       "      <td>0</td>\n",
       "      <td>0</td>\n",
       "    </tr>\n",
       "    <tr>\n",
       "      <th>9996</th>\n",
       "      <td>298.9</td>\n",
       "      <td>308.4</td>\n",
       "      <td>1632</td>\n",
       "      <td>31.8</td>\n",
       "      <td>17</td>\n",
       "      <td>0</td>\n",
       "      <td>0</td>\n",
       "      <td>0</td>\n",
       "      <td>0</td>\n",
       "      <td>0</td>\n",
       "    </tr>\n",
       "    <tr>\n",
       "      <th>9997</th>\n",
       "      <td>299.0</td>\n",
       "      <td>308.6</td>\n",
       "      <td>1645</td>\n",
       "      <td>33.4</td>\n",
       "      <td>22</td>\n",
       "      <td>0</td>\n",
       "      <td>0</td>\n",
       "      <td>0</td>\n",
       "      <td>0</td>\n",
       "      <td>0</td>\n",
       "    </tr>\n",
       "    <tr>\n",
       "      <th>9998</th>\n",
       "      <td>299.0</td>\n",
       "      <td>308.7</td>\n",
       "      <td>1408</td>\n",
       "      <td>48.5</td>\n",
       "      <td>25</td>\n",
       "      <td>0</td>\n",
       "      <td>0</td>\n",
       "      <td>0</td>\n",
       "      <td>0</td>\n",
       "      <td>0</td>\n",
       "    </tr>\n",
       "    <tr>\n",
       "      <th>9999</th>\n",
       "      <td>299.0</td>\n",
       "      <td>308.7</td>\n",
       "      <td>1500</td>\n",
       "      <td>40.2</td>\n",
       "      <td>30</td>\n",
       "      <td>0</td>\n",
       "      <td>0</td>\n",
       "      <td>0</td>\n",
       "      <td>0</td>\n",
       "      <td>0</td>\n",
       "    </tr>\n",
       "  </tbody>\n",
       "</table>\n",
       "<p>10000 rows × 10 columns</p>\n",
       "</div>"
      ],
      "text/plain": [
       "      AirtemperatureK  ProcesstemperatureK  Rotationalspeedrpm  TorqueNm  \\\n",
       "0               298.1                308.6                1551      42.8   \n",
       "1               298.2                308.7                1408      46.3   \n",
       "2               298.1                308.5                1498      49.4   \n",
       "3               298.2                308.6                1433      39.5   \n",
       "4               298.2                308.7                1408      40.0   \n",
       "...               ...                  ...                 ...       ...   \n",
       "9995            298.8                308.4                1604      29.5   \n",
       "9996            298.9                308.4                1632      31.8   \n",
       "9997            299.0                308.6                1645      33.4   \n",
       "9998            299.0                308.7                1408      48.5   \n",
       "9999            299.0                308.7                1500      40.2   \n",
       "\n",
       "      Toolwearmin  TWF  HDF  PWF  OSF  RNF  \n",
       "0               0    0    0    0    0    0  \n",
       "1               3    0    0    0    0    0  \n",
       "2               5    0    0    0    0    0  \n",
       "3               7    0    0    0    0    0  \n",
       "4               9    0    0    0    0    0  \n",
       "...           ...  ...  ...  ...  ...  ...  \n",
       "9995           14    0    0    0    0    0  \n",
       "9996           17    0    0    0    0    0  \n",
       "9997           22    0    0    0    0    0  \n",
       "9998           25    0    0    0    0    0  \n",
       "9999           30    0    0    0    0    0  \n",
       "\n",
       "[10000 rows x 10 columns]"
      ]
     },
     "execution_count": 29,
     "metadata": {},
     "output_type": "execute_result"
    }
   ],
   "source": [
    "df"
   ]
  },
  {
   "cell_type": "code",
   "execution_count": 30,
   "id": "ce26a402",
   "metadata": {},
   "outputs": [
    {
     "data": {
      "text/plain": [
       "array([[-0.94735989,  0.06818514,  0.28219976, -1.69598374, -0.06797983,\n",
       "        -0.10786004, -0.09793424, -0.09948362, -0.04363046]])"
      ]
     },
     "execution_count": 30,
     "metadata": {},
     "output_type": "execute_result"
    }
   ],
   "source": [
    "test1 = scaler.transform([[308.6,1551,42.8,0,0,0,0,0,0]])\n",
    "test1"
   ]
  },
  {
   "cell_type": "code",
   "execution_count": 31,
   "id": "03855b44",
   "metadata": {},
   "outputs": [
    {
     "data": {
      "text/plain": [
       "array([298.3291309])"
      ]
     },
     "execution_count": 31,
     "metadata": {},
     "output_type": "execute_result"
    }
   ],
   "source": [
    "lr.predict(test1)"
   ]
  },
  {
   "cell_type": "code",
   "execution_count": 32,
   "id": "ec2743f8",
   "metadata": {},
   "outputs": [
    {
     "data": {
      "text/plain": [
       "array([[-0.879959  , -0.2162938 ,  0.02137647, -1.22466331, -0.06797983,\n",
       "        -0.10786004, -0.09793424, -0.09948362, -0.04363046]])"
      ]
     },
     "execution_count": 32,
     "metadata": {},
     "output_type": "execute_result"
    }
   ],
   "source": [
    "test2 = scaler.transform([[308.7,1500,40.2,30,0,0,0,0,0]])\n",
    "test2"
   ]
  },
  {
   "cell_type": "code",
   "execution_count": 33,
   "id": "5d4d9ea7",
   "metadata": {},
   "outputs": [
    {
     "data": {
      "text/plain": [
       "array([298.44607641])"
      ]
     },
     "execution_count": 33,
     "metadata": {},
     "output_type": "execute_result"
    }
   ],
   "source": [
    "lm.predict(test2)"
   ]
  },
  {
   "cell_type": "markdown",
   "id": "82c5a2ff",
   "metadata": {},
   "source": [
    "## Checking for Adj - r2"
   ]
  },
  {
   "cell_type": "code",
   "execution_count": 34,
   "id": "8eb76bc1",
   "metadata": {},
   "outputs": [],
   "source": [
    "def adj_r2(x,y,lr):\n",
    "    r2 = lr.score(x,y)\n",
    "    n = x.shape[0]\n",
    "    p = x.shape[1]\n",
    "    adj_r2 = 1-(1-r2)*(n-1)/(n-p-1)\n",
    "    return adj_r2\n",
    "\n",
    "adj_r2_lr = adj_r2(x_test,y_test,lr)"
   ]
  },
  {
   "cell_type": "code",
   "execution_count": 35,
   "id": "824298ab",
   "metadata": {},
   "outputs": [
    {
     "data": {
      "text/plain": [
       "0.7956259531901215"
      ]
     },
     "execution_count": 35,
     "metadata": {},
     "output_type": "execute_result"
    }
   ],
   "source": [
    "adj_r2_lr"
   ]
  },
  {
   "cell_type": "markdown",
   "id": "d2c310ea",
   "metadata": {},
   "source": [
    "## Lasso Regularization"
   ]
  },
  {
   "cell_type": "code",
   "execution_count": 36,
   "id": "fe503814",
   "metadata": {},
   "outputs": [
    {
     "data": {
      "text/plain": [
       "LarsCV(cv=10, max_iter=10000)"
      ]
     },
     "execution_count": 36,
     "metadata": {},
     "output_type": "execute_result"
    }
   ],
   "source": [
    "lassocv = LarsCV(cv=10,max_iter=10000,normalize=True)\n",
    "lassocv.fit(x_train,y_train)"
   ]
  },
  {
   "cell_type": "code",
   "execution_count": 37,
   "id": "dd2384c7",
   "metadata": {},
   "outputs": [
    {
     "data": {
      "text/plain": [
       "0.0001204521111487555"
      ]
     },
     "execution_count": 37,
     "metadata": {},
     "output_type": "execute_result"
    }
   ],
   "source": [
    "lassocv.alpha_"
   ]
  },
  {
   "cell_type": "code",
   "execution_count": 38,
   "id": "24519010",
   "metadata": {},
   "outputs": [
    {
     "data": {
      "text/plain": [
       "Lasso(alpha=0.0001204521111487555)"
      ]
     },
     "execution_count": 38,
     "metadata": {},
     "output_type": "execute_result"
    }
   ],
   "source": [
    "lasso = Lasso(alpha=lassocv.alpha_)\n",
    "lasso.fit(x_train,y_train)"
   ]
  },
  {
   "cell_type": "code",
   "execution_count": 39,
   "id": "49e161f7",
   "metadata": {},
   "outputs": [
    {
     "data": {
      "text/plain": [
       "0.7965500827069432"
      ]
     },
     "execution_count": 39,
     "metadata": {},
     "output_type": "execute_result"
    }
   ],
   "source": [
    "lasso.score(x_test,y_test)"
   ]
  },
  {
   "cell_type": "code",
   "execution_count": 40,
   "id": "34791506",
   "metadata": {},
   "outputs": [],
   "source": [
    "adj_r2_lasso = adj_r2(x_test,y_test,lasso)"
   ]
  },
  {
   "cell_type": "code",
   "execution_count": 41,
   "id": "3a1a3e29",
   "metadata": {},
   "outputs": [
    {
     "data": {
      "text/plain": [
       "0.795629957452854"
      ]
     },
     "execution_count": 41,
     "metadata": {},
     "output_type": "execute_result"
    }
   ],
   "source": [
    "adj_r2_lasso"
   ]
  },
  {
   "cell_type": "markdown",
   "id": "046c49a1",
   "metadata": {},
   "source": [
    "## Ridge regularization"
   ]
  },
  {
   "cell_type": "code",
   "execution_count": 42,
   "id": "f403d15c",
   "metadata": {},
   "outputs": [
    {
     "data": {
      "text/plain": [
       "RidgeCV(alphas=array([ 0.1,  1. , 10. ]), cv=5, normalize=True)"
      ]
     },
     "execution_count": 42,
     "metadata": {},
     "output_type": "execute_result"
    }
   ],
   "source": [
    "ridgecv = RidgeCV(cv=5,normalize=True)\n",
    "ridgecv.fit(x_train,y_train)"
   ]
  },
  {
   "cell_type": "code",
   "execution_count": 43,
   "id": "cbca1482",
   "metadata": {},
   "outputs": [
    {
     "data": {
      "text/plain": [
       "0.1"
      ]
     },
     "execution_count": 43,
     "metadata": {},
     "output_type": "execute_result"
    }
   ],
   "source": [
    "ridgecv.alpha_"
   ]
  },
  {
   "cell_type": "code",
   "execution_count": 44,
   "id": "77bc38b9",
   "metadata": {},
   "outputs": [
    {
     "data": {
      "text/plain": [
       "Ridge(alpha=0.1)"
      ]
     },
     "execution_count": 44,
     "metadata": {},
     "output_type": "execute_result"
    }
   ],
   "source": [
    "ridge_lr = Ridge(alpha=ridgecv.alpha_)\n",
    "ridge_lr.fit(x_train,y_train)"
   ]
  },
  {
   "cell_type": "code",
   "execution_count": 45,
   "id": "a870d820",
   "metadata": {},
   "outputs": [
    {
     "data": {
      "text/plain": [
       "0.7965457602683094"
      ]
     },
     "execution_count": 45,
     "metadata": {},
     "output_type": "execute_result"
    }
   ],
   "source": [
    "ridge_lr.score(x_test,y_test)"
   ]
  },
  {
   "cell_type": "code",
   "execution_count": 46,
   "id": "e51a8d5f",
   "metadata": {},
   "outputs": [],
   "source": [
    "adj_r2_ridge = adj_r2(x_test,y_test,ridge_lr)"
   ]
  },
  {
   "cell_type": "code",
   "execution_count": 47,
   "id": "422b7d50",
   "metadata": {},
   "outputs": [
    {
     "data": {
      "text/plain": [
       "0.7956256154655027"
      ]
     },
     "execution_count": 47,
     "metadata": {},
     "output_type": "execute_result"
    }
   ],
   "source": [
    "adj_r2_ridge"
   ]
  },
  {
   "cell_type": "markdown",
   "id": "64dc2472",
   "metadata": {},
   "source": [
    "## Elastic net "
   ]
  },
  {
   "cell_type": "code",
   "execution_count": 48,
   "id": "6865476d",
   "metadata": {},
   "outputs": [
    {
     "data": {
      "text/plain": [
       "ElasticNetCV(cv=10)"
      ]
     },
     "execution_count": 48,
     "metadata": {},
     "output_type": "execute_result"
    }
   ],
   "source": [
    "elastic = ElasticNetCV(alphas=None,cv=10)\n",
    "elastic.fit(x_train,y_train)"
   ]
  },
  {
   "cell_type": "code",
   "execution_count": 49,
   "id": "36cabaaa",
   "metadata": {},
   "outputs": [
    {
     "data": {
      "text/plain": [
       "0.0074166085296927305"
      ]
     },
     "execution_count": 49,
     "metadata": {},
     "output_type": "execute_result"
    }
   ],
   "source": [
    "elastic.alpha_"
   ]
  },
  {
   "cell_type": "code",
   "execution_count": 50,
   "id": "1a6c62f8",
   "metadata": {},
   "outputs": [
    {
     "data": {
      "text/plain": [
       "0.5"
      ]
     },
     "execution_count": 50,
     "metadata": {},
     "output_type": "execute_result"
    }
   ],
   "source": [
    "elastic.l1_ratio_"
   ]
  },
  {
   "cell_type": "code",
   "execution_count": 51,
   "id": "a0eafa44",
   "metadata": {},
   "outputs": [
    {
     "data": {
      "text/plain": [
       "ElasticNet(alpha=0.0074166085296927305)"
      ]
     },
     "execution_count": 51,
     "metadata": {},
     "output_type": "execute_result"
    }
   ],
   "source": [
    "elastic_lr = ElasticNet(alpha=elastic.alpha_,l1_ratio=elastic.l1_ratio_)\n",
    "elastic_lr.fit(x_train,y_train)"
   ]
  },
  {
   "cell_type": "code",
   "execution_count": 52,
   "id": "c10e88d8",
   "metadata": {},
   "outputs": [
    {
     "data": {
      "text/plain": [
       "0.7964254616226731"
      ]
     },
     "execution_count": 52,
     "metadata": {},
     "output_type": "execute_result"
    }
   ],
   "source": [
    "elastic_lr.score(x_test,y_test)"
   ]
  },
  {
   "cell_type": "code",
   "execution_count": 54,
   "id": "c45cb5bb",
   "metadata": {},
   "outputs": [],
   "source": [
    "adj_r2_elastic = adj_r2(x_test,y_test,elastic_lr)"
   ]
  },
  {
   "cell_type": "code",
   "execution_count": 55,
   "id": "dd211710",
   "metadata": {},
   "outputs": [
    {
     "data": {
      "text/plain": [
       "0.79550477275564"
      ]
     },
     "execution_count": 55,
     "metadata": {},
     "output_type": "execute_result"
    }
   ],
   "source": [
    "adj_r2_elastic"
   ]
  },
  {
   "cell_type": "code",
   "execution_count": 65,
   "id": "ec555646",
   "metadata": {},
   "outputs": [
    {
     "data": {
      "text/plain": [
       "{'LR': 0.7956259531901215,\n",
       " 'Lasso': 0.795629957452854,\n",
       " 'Ridge': 0.79550477275564,\n",
       " 'Elastic': 0.79550477275564}"
      ]
     },
     "execution_count": 65,
     "metadata": {},
     "output_type": "execute_result"
    }
   ],
   "source": [
    "score_df = {\"LR\" : adj_r2_lr,\"Lasso\" : adj_r2_lasso,\"Ridge\" : adj_r2_ridge,\"Elastic\" :adj_r2_elastic}\n",
    "score_df"
   ]
  },
  {
   "cell_type": "code",
   "execution_count": 68,
   "id": "9cad133e",
   "metadata": {},
   "outputs": [],
   "source": [
    "pickle.dump(lasso,open('Ai4i_lasso_final.pickle','wb'))"
   ]
  },
  {
   "cell_type": "code",
   "execution_count": 69,
   "id": "944f81d6",
   "metadata": {},
   "outputs": [],
   "source": [
    "pickle.dump(scaler,open('scaler_std.pickle','wb'))"
   ]
  },
  {
   "cell_type": "code",
   "execution_count": 74,
   "id": "01b83d9e",
   "metadata": {},
   "outputs": [
    {
     "data": {
      "text/html": [
       "<div>\n",
       "<style scoped>\n",
       "    .dataframe tbody tr th:only-of-type {\n",
       "        vertical-align: middle;\n",
       "    }\n",
       "\n",
       "    .dataframe tbody tr th {\n",
       "        vertical-align: top;\n",
       "    }\n",
       "\n",
       "    .dataframe thead th {\n",
       "        text-align: right;\n",
       "    }\n",
       "</style>\n",
       "<table border=\"1\" class=\"dataframe\">\n",
       "  <thead>\n",
       "    <tr style=\"text-align: right;\">\n",
       "      <th></th>\n",
       "      <th>AirtemperatureK</th>\n",
       "      <th>ProcesstemperatureK</th>\n",
       "      <th>Rotationalspeedrpm</th>\n",
       "      <th>TorqueNm</th>\n",
       "      <th>Toolwearmin</th>\n",
       "      <th>TWF</th>\n",
       "      <th>HDF</th>\n",
       "      <th>PWF</th>\n",
       "      <th>OSF</th>\n",
       "      <th>RNF</th>\n",
       "    </tr>\n",
       "  </thead>\n",
       "  <tbody>\n",
       "    <tr>\n",
       "      <th>0</th>\n",
       "      <td>298.1</td>\n",
       "      <td>308.6</td>\n",
       "      <td>1551</td>\n",
       "      <td>42.8</td>\n",
       "      <td>0</td>\n",
       "      <td>0</td>\n",
       "      <td>0</td>\n",
       "      <td>0</td>\n",
       "      <td>0</td>\n",
       "      <td>0</td>\n",
       "    </tr>\n",
       "    <tr>\n",
       "      <th>1</th>\n",
       "      <td>298.2</td>\n",
       "      <td>308.7</td>\n",
       "      <td>1408</td>\n",
       "      <td>46.3</td>\n",
       "      <td>3</td>\n",
       "      <td>0</td>\n",
       "      <td>0</td>\n",
       "      <td>0</td>\n",
       "      <td>0</td>\n",
       "      <td>0</td>\n",
       "    </tr>\n",
       "    <tr>\n",
       "      <th>2</th>\n",
       "      <td>298.1</td>\n",
       "      <td>308.5</td>\n",
       "      <td>1498</td>\n",
       "      <td>49.4</td>\n",
       "      <td>5</td>\n",
       "      <td>0</td>\n",
       "      <td>0</td>\n",
       "      <td>0</td>\n",
       "      <td>0</td>\n",
       "      <td>0</td>\n",
       "    </tr>\n",
       "    <tr>\n",
       "      <th>3</th>\n",
       "      <td>298.2</td>\n",
       "      <td>308.6</td>\n",
       "      <td>1433</td>\n",
       "      <td>39.5</td>\n",
       "      <td>7</td>\n",
       "      <td>0</td>\n",
       "      <td>0</td>\n",
       "      <td>0</td>\n",
       "      <td>0</td>\n",
       "      <td>0</td>\n",
       "    </tr>\n",
       "    <tr>\n",
       "      <th>4</th>\n",
       "      <td>298.2</td>\n",
       "      <td>308.7</td>\n",
       "      <td>1408</td>\n",
       "      <td>40.0</td>\n",
       "      <td>9</td>\n",
       "      <td>0</td>\n",
       "      <td>0</td>\n",
       "      <td>0</td>\n",
       "      <td>0</td>\n",
       "      <td>0</td>\n",
       "    </tr>\n",
       "    <tr>\n",
       "      <th>...</th>\n",
       "      <td>...</td>\n",
       "      <td>...</td>\n",
       "      <td>...</td>\n",
       "      <td>...</td>\n",
       "      <td>...</td>\n",
       "      <td>...</td>\n",
       "      <td>...</td>\n",
       "      <td>...</td>\n",
       "      <td>...</td>\n",
       "      <td>...</td>\n",
       "    </tr>\n",
       "    <tr>\n",
       "      <th>95</th>\n",
       "      <td>299.0</td>\n",
       "      <td>309.0</td>\n",
       "      <td>1351</td>\n",
       "      <td>52.2</td>\n",
       "      <td>44</td>\n",
       "      <td>0</td>\n",
       "      <td>0</td>\n",
       "      <td>0</td>\n",
       "      <td>0</td>\n",
       "      <td>0</td>\n",
       "    </tr>\n",
       "    <tr>\n",
       "      <th>96</th>\n",
       "      <td>299.0</td>\n",
       "      <td>309.0</td>\n",
       "      <td>1575</td>\n",
       "      <td>35.3</td>\n",
       "      <td>47</td>\n",
       "      <td>0</td>\n",
       "      <td>0</td>\n",
       "      <td>0</td>\n",
       "      <td>0</td>\n",
       "      <td>0</td>\n",
       "    </tr>\n",
       "    <tr>\n",
       "      <th>97</th>\n",
       "      <td>298.9</td>\n",
       "      <td>308.9</td>\n",
       "      <td>1750</td>\n",
       "      <td>29.9</td>\n",
       "      <td>50</td>\n",
       "      <td>0</td>\n",
       "      <td>0</td>\n",
       "      <td>0</td>\n",
       "      <td>0</td>\n",
       "      <td>0</td>\n",
       "    </tr>\n",
       "    <tr>\n",
       "      <th>98</th>\n",
       "      <td>298.9</td>\n",
       "      <td>308.8</td>\n",
       "      <td>1529</td>\n",
       "      <td>32.7</td>\n",
       "      <td>53</td>\n",
       "      <td>0</td>\n",
       "      <td>0</td>\n",
       "      <td>0</td>\n",
       "      <td>0</td>\n",
       "      <td>0</td>\n",
       "    </tr>\n",
       "    <tr>\n",
       "      <th>99</th>\n",
       "      <td>298.8</td>\n",
       "      <td>308.8</td>\n",
       "      <td>1523</td>\n",
       "      <td>44.4</td>\n",
       "      <td>55</td>\n",
       "      <td>0</td>\n",
       "      <td>0</td>\n",
       "      <td>0</td>\n",
       "      <td>0</td>\n",
       "      <td>0</td>\n",
       "    </tr>\n",
       "  </tbody>\n",
       "</table>\n",
       "<p>100 rows × 10 columns</p>\n",
       "</div>"
      ],
      "text/plain": [
       "    AirtemperatureK  ProcesstemperatureK  Rotationalspeedrpm  TorqueNm  \\\n",
       "0             298.1                308.6                1551      42.8   \n",
       "1             298.2                308.7                1408      46.3   \n",
       "2             298.1                308.5                1498      49.4   \n",
       "3             298.2                308.6                1433      39.5   \n",
       "4             298.2                308.7                1408      40.0   \n",
       "..              ...                  ...                 ...       ...   \n",
       "95            299.0                309.0                1351      52.2   \n",
       "96            299.0                309.0                1575      35.3   \n",
       "97            298.9                308.9                1750      29.9   \n",
       "98            298.9                308.8                1529      32.7   \n",
       "99            298.8                308.8                1523      44.4   \n",
       "\n",
       "    Toolwearmin  TWF  HDF  PWF  OSF  RNF  \n",
       "0             0    0    0    0    0    0  \n",
       "1             3    0    0    0    0    0  \n",
       "2             5    0    0    0    0    0  \n",
       "3             7    0    0    0    0    0  \n",
       "4             9    0    0    0    0    0  \n",
       "..          ...  ...  ...  ...  ...  ...  \n",
       "95           44    0    0    0    0    0  \n",
       "96           47    0    0    0    0    0  \n",
       "97           50    0    0    0    0    0  \n",
       "98           53    0    0    0    0    0  \n",
       "99           55    0    0    0    0    0  \n",
       "\n",
       "[100 rows x 10 columns]"
      ]
     },
     "execution_count": 74,
     "metadata": {},
     "output_type": "execute_result"
    }
   ],
   "source": [
    "df.head(100)"
   ]
  },
  {
   "cell_type": "code",
   "execution_count": 79,
   "id": "ee3e95b7",
   "metadata": {},
   "outputs": [
    {
     "data": {
      "text/html": [
       "<div>\n",
       "<style scoped>\n",
       "    .dataframe tbody tr th:only-of-type {\n",
       "        vertical-align: middle;\n",
       "    }\n",
       "\n",
       "    .dataframe tbody tr th {\n",
       "        vertical-align: top;\n",
       "    }\n",
       "\n",
       "    .dataframe thead th {\n",
       "        text-align: right;\n",
       "    }\n",
       "</style>\n",
       "<table border=\"1\" class=\"dataframe\">\n",
       "  <thead>\n",
       "    <tr style=\"text-align: right;\">\n",
       "      <th></th>\n",
       "      <th>AirtemperatureK</th>\n",
       "      <th>ProcesstemperatureK</th>\n",
       "      <th>Rotationalspeedrpm</th>\n",
       "      <th>TorqueNm</th>\n",
       "      <th>Toolwearmin</th>\n",
       "      <th>TWF</th>\n",
       "      <th>HDF</th>\n",
       "      <th>PWF</th>\n",
       "      <th>OSF</th>\n",
       "      <th>RNF</th>\n",
       "    </tr>\n",
       "  </thead>\n",
       "  <tbody>\n",
       "    <tr>\n",
       "      <th>2787</th>\n",
       "      <td>300.3</td>\n",
       "      <td>309.6</td>\n",
       "      <td>1524</td>\n",
       "      <td>38.4</td>\n",
       "      <td>54</td>\n",
       "      <td>0</td>\n",
       "      <td>0</td>\n",
       "      <td>0</td>\n",
       "      <td>0</td>\n",
       "      <td>0</td>\n",
       "    </tr>\n",
       "    <tr>\n",
       "      <th>2788</th>\n",
       "      <td>300.3</td>\n",
       "      <td>309.6</td>\n",
       "      <td>1326</td>\n",
       "      <td>52.4</td>\n",
       "      <td>57</td>\n",
       "      <td>0</td>\n",
       "      <td>0</td>\n",
       "      <td>0</td>\n",
       "      <td>0</td>\n",
       "      <td>0</td>\n",
       "    </tr>\n",
       "    <tr>\n",
       "      <th>2789</th>\n",
       "      <td>300.3</td>\n",
       "      <td>309.5</td>\n",
       "      <td>1438</td>\n",
       "      <td>44.0</td>\n",
       "      <td>59</td>\n",
       "      <td>0</td>\n",
       "      <td>0</td>\n",
       "      <td>0</td>\n",
       "      <td>0</td>\n",
       "      <td>0</td>\n",
       "    </tr>\n",
       "    <tr>\n",
       "      <th>2790</th>\n",
       "      <td>300.4</td>\n",
       "      <td>309.6</td>\n",
       "      <td>1356</td>\n",
       "      <td>45.9</td>\n",
       "      <td>64</td>\n",
       "      <td>0</td>\n",
       "      <td>0</td>\n",
       "      <td>0</td>\n",
       "      <td>0</td>\n",
       "      <td>0</td>\n",
       "    </tr>\n",
       "    <tr>\n",
       "      <th>2791</th>\n",
       "      <td>300.4</td>\n",
       "      <td>309.6</td>\n",
       "      <td>1416</td>\n",
       "      <td>43.3</td>\n",
       "      <td>66</td>\n",
       "      <td>0</td>\n",
       "      <td>0</td>\n",
       "      <td>0</td>\n",
       "      <td>0</td>\n",
       "      <td>0</td>\n",
       "    </tr>\n",
       "    <tr>\n",
       "      <th>...</th>\n",
       "      <td>...</td>\n",
       "      <td>...</td>\n",
       "      <td>...</td>\n",
       "      <td>...</td>\n",
       "      <td>...</td>\n",
       "      <td>...</td>\n",
       "      <td>...</td>\n",
       "      <td>...</td>\n",
       "      <td>...</td>\n",
       "      <td>...</td>\n",
       "    </tr>\n",
       "    <tr>\n",
       "      <th>8115</th>\n",
       "      <td>300.4</td>\n",
       "      <td>311.8</td>\n",
       "      <td>1367</td>\n",
       "      <td>57.2</td>\n",
       "      <td>10</td>\n",
       "      <td>0</td>\n",
       "      <td>0</td>\n",
       "      <td>0</td>\n",
       "      <td>0</td>\n",
       "      <td>0</td>\n",
       "    </tr>\n",
       "    <tr>\n",
       "      <th>8116</th>\n",
       "      <td>300.3</td>\n",
       "      <td>311.8</td>\n",
       "      <td>2004</td>\n",
       "      <td>19.6</td>\n",
       "      <td>12</td>\n",
       "      <td>0</td>\n",
       "      <td>0</td>\n",
       "      <td>0</td>\n",
       "      <td>0</td>\n",
       "      <td>0</td>\n",
       "    </tr>\n",
       "    <tr>\n",
       "      <th>8117</th>\n",
       "      <td>300.3</td>\n",
       "      <td>311.7</td>\n",
       "      <td>1406</td>\n",
       "      <td>47.5</td>\n",
       "      <td>14</td>\n",
       "      <td>0</td>\n",
       "      <td>0</td>\n",
       "      <td>0</td>\n",
       "      <td>0</td>\n",
       "      <td>0</td>\n",
       "    </tr>\n",
       "    <tr>\n",
       "      <th>8118</th>\n",
       "      <td>300.3</td>\n",
       "      <td>311.8</td>\n",
       "      <td>1548</td>\n",
       "      <td>33.0</td>\n",
       "      <td>16</td>\n",
       "      <td>0</td>\n",
       "      <td>0</td>\n",
       "      <td>0</td>\n",
       "      <td>0</td>\n",
       "      <td>0</td>\n",
       "    </tr>\n",
       "    <tr>\n",
       "      <th>8119</th>\n",
       "      <td>300.3</td>\n",
       "      <td>311.7</td>\n",
       "      <td>1333</td>\n",
       "      <td>55.2</td>\n",
       "      <td>18</td>\n",
       "      <td>0</td>\n",
       "      <td>0</td>\n",
       "      <td>0</td>\n",
       "      <td>0</td>\n",
       "      <td>0</td>\n",
       "    </tr>\n",
       "  </tbody>\n",
       "</table>\n",
       "<p>4701 rows × 10 columns</p>\n",
       "</div>"
      ],
      "text/plain": [
       "      AirtemperatureK  ProcesstemperatureK  Rotationalspeedrpm  TorqueNm  \\\n",
       "2787            300.3                309.6                1524      38.4   \n",
       "2788            300.3                309.6                1326      52.4   \n",
       "2789            300.3                309.5                1438      44.0   \n",
       "2790            300.4                309.6                1356      45.9   \n",
       "2791            300.4                309.6                1416      43.3   \n",
       "...               ...                  ...                 ...       ...   \n",
       "8115            300.4                311.8                1367      57.2   \n",
       "8116            300.3                311.8                2004      19.6   \n",
       "8117            300.3                311.7                1406      47.5   \n",
       "8118            300.3                311.8                1548      33.0   \n",
       "8119            300.3                311.7                1333      55.2   \n",
       "\n",
       "      Toolwearmin  TWF  HDF  PWF  OSF  RNF  \n",
       "2787           54    0    0    0    0    0  \n",
       "2788           57    0    0    0    0    0  \n",
       "2789           59    0    0    0    0    0  \n",
       "2790           64    0    0    0    0    0  \n",
       "2791           66    0    0    0    0    0  \n",
       "...           ...  ...  ...  ...  ...  ...  \n",
       "8115           10    0    0    0    0    0  \n",
       "8116           12    0    0    0    0    0  \n",
       "8117           14    0    0    0    0    0  \n",
       "8118           16    0    0    0    0    0  \n",
       "8119           18    0    0    0    0    0  \n",
       "\n",
       "[4701 rows x 10 columns]"
      ]
     },
     "execution_count": 79,
     "metadata": {},
     "output_type": "execute_result"
    }
   ],
   "source": [
    "df.loc[df['AirtemperatureK'] > 300.2]"
   ]
  },
  {
   "cell_type": "code",
   "execution_count": null,
   "id": "79eec8a7",
   "metadata": {},
   "outputs": [],
   "source": []
  }
 ],
 "metadata": {
  "kernelspec": {
   "display_name": "Python 3",
   "language": "python",
   "name": "python3"
  },
  "language_info": {
   "codemirror_mode": {
    "name": "ipython",
    "version": 3
   },
   "file_extension": ".py",
   "mimetype": "text/x-python",
   "name": "python",
   "nbconvert_exporter": "python",
   "pygments_lexer": "ipython3",
   "version": "3.8.8"
  }
 },
 "nbformat": 4,
 "nbformat_minor": 5
}
